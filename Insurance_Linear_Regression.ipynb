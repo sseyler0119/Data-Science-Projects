{
  "nbformat": 4,
  "nbformat_minor": 0,
  "metadata": {
    "colab": {
      "provenance": [],
      "authorship_tag": "ABX9TyNvhNLZc1jCas729ufTBw8j",
      "include_colab_link": true
    },
    "kernelspec": {
      "name": "python3",
      "display_name": "Python 3"
    },
    "language_info": {
      "name": "python"
    }
  },
  "cells": [
    {
      "cell_type": "markdown",
      "metadata": {
        "id": "view-in-github",
        "colab_type": "text"
      },
      "source": [
        "<a href=\"https://colab.research.google.com/github/sseyler0119/Data-Science-Projects/blob/master/Insurance_Linear_Regression.ipynb\" target=\"_parent\"><img src=\"https://colab.research.google.com/assets/colab-badge.svg\" alt=\"Open In Colab\"/></a>"
      ]
    },
    {
      "cell_type": "code",
      "execution_count": 1,
      "metadata": {
        "id": "wCsip9fUbJmr"
      },
      "outputs": [],
      "source": [
        "# import libraries\n",
        "import numpy as np\n",
        "import pandas as pd\n",
        "import matplotlib.pyplot as plt\n",
        "import seaborn as sns\n",
        "\n",
        "%matplotlib inline"
      ]
    },
    {
      "cell_type": "code",
      "source": [
        "# read in the dataset\n",
        "insurance = pd.read_csv('https://raw.githubusercontent.com/sseyler0119/datasets/master/insuranceData.csv')"
      ],
      "metadata": {
        "id": "570sleg3bQ6x"
      },
      "execution_count": 2,
      "outputs": []
    },
    {
      "cell_type": "code",
      "source": [
        "insurance.head() # examine our data, smoker is categorical"
      ],
      "metadata": {
        "colab": {
          "base_uri": "https://localhost:8080/",
          "height": 206
        },
        "id": "YfJHOdQqbxeI",
        "outputId": "3651f323-32d3-427e-d4f0-44e379a32789"
      },
      "execution_count": 3,
      "outputs": [
        {
          "output_type": "execute_result",
          "data": {
            "text/plain": [
              "   age     bmi  children smoker      charges\n",
              "0   19  27.900         0    yes  16884.92400\n",
              "1   18  33.770         1     no   1725.55230\n",
              "2   28  33.000         3     no   4449.46200\n",
              "3   33  22.705         0     no  21984.47061\n",
              "4   32  28.880         0     no   3866.85520"
            ],
            "text/html": [
              "\n",
              "  <div id=\"df-60a67435-e200-47e9-90ed-fc4bb5ed10ca\">\n",
              "    <div class=\"colab-df-container\">\n",
              "      <div>\n",
              "<style scoped>\n",
              "    .dataframe tbody tr th:only-of-type {\n",
              "        vertical-align: middle;\n",
              "    }\n",
              "\n",
              "    .dataframe tbody tr th {\n",
              "        vertical-align: top;\n",
              "    }\n",
              "\n",
              "    .dataframe thead th {\n",
              "        text-align: right;\n",
              "    }\n",
              "</style>\n",
              "<table border=\"1\" class=\"dataframe\">\n",
              "  <thead>\n",
              "    <tr style=\"text-align: right;\">\n",
              "      <th></th>\n",
              "      <th>age</th>\n",
              "      <th>bmi</th>\n",
              "      <th>children</th>\n",
              "      <th>smoker</th>\n",
              "      <th>charges</th>\n",
              "    </tr>\n",
              "  </thead>\n",
              "  <tbody>\n",
              "    <tr>\n",
              "      <th>0</th>\n",
              "      <td>19</td>\n",
              "      <td>27.900</td>\n",
              "      <td>0</td>\n",
              "      <td>yes</td>\n",
              "      <td>16884.92400</td>\n",
              "    </tr>\n",
              "    <tr>\n",
              "      <th>1</th>\n",
              "      <td>18</td>\n",
              "      <td>33.770</td>\n",
              "      <td>1</td>\n",
              "      <td>no</td>\n",
              "      <td>1725.55230</td>\n",
              "    </tr>\n",
              "    <tr>\n",
              "      <th>2</th>\n",
              "      <td>28</td>\n",
              "      <td>33.000</td>\n",
              "      <td>3</td>\n",
              "      <td>no</td>\n",
              "      <td>4449.46200</td>\n",
              "    </tr>\n",
              "    <tr>\n",
              "      <th>3</th>\n",
              "      <td>33</td>\n",
              "      <td>22.705</td>\n",
              "      <td>0</td>\n",
              "      <td>no</td>\n",
              "      <td>21984.47061</td>\n",
              "    </tr>\n",
              "    <tr>\n",
              "      <th>4</th>\n",
              "      <td>32</td>\n",
              "      <td>28.880</td>\n",
              "      <td>0</td>\n",
              "      <td>no</td>\n",
              "      <td>3866.85520</td>\n",
              "    </tr>\n",
              "  </tbody>\n",
              "</table>\n",
              "</div>\n",
              "      <button class=\"colab-df-convert\" onclick=\"convertToInteractive('df-60a67435-e200-47e9-90ed-fc4bb5ed10ca')\"\n",
              "              title=\"Convert this dataframe to an interactive table.\"\n",
              "              style=\"display:none;\">\n",
              "        \n",
              "  <svg xmlns=\"http://www.w3.org/2000/svg\" height=\"24px\"viewBox=\"0 0 24 24\"\n",
              "       width=\"24px\">\n",
              "    <path d=\"M0 0h24v24H0V0z\" fill=\"none\"/>\n",
              "    <path d=\"M18.56 5.44l.94 2.06.94-2.06 2.06-.94-2.06-.94-.94-2.06-.94 2.06-2.06.94zm-11 1L8.5 8.5l.94-2.06 2.06-.94-2.06-.94L8.5 2.5l-.94 2.06-2.06.94zm10 10l.94 2.06.94-2.06 2.06-.94-2.06-.94-.94-2.06-.94 2.06-2.06.94z\"/><path d=\"M17.41 7.96l-1.37-1.37c-.4-.4-.92-.59-1.43-.59-.52 0-1.04.2-1.43.59L10.3 9.45l-7.72 7.72c-.78.78-.78 2.05 0 2.83L4 21.41c.39.39.9.59 1.41.59.51 0 1.02-.2 1.41-.59l7.78-7.78 2.81-2.81c.8-.78.8-2.07 0-2.86zM5.41 20L4 18.59l7.72-7.72 1.47 1.35L5.41 20z\"/>\n",
              "  </svg>\n",
              "      </button>\n",
              "      \n",
              "  <style>\n",
              "    .colab-df-container {\n",
              "      display:flex;\n",
              "      flex-wrap:wrap;\n",
              "      gap: 12px;\n",
              "    }\n",
              "\n",
              "    .colab-df-convert {\n",
              "      background-color: #E8F0FE;\n",
              "      border: none;\n",
              "      border-radius: 50%;\n",
              "      cursor: pointer;\n",
              "      display: none;\n",
              "      fill: #1967D2;\n",
              "      height: 32px;\n",
              "      padding: 0 0 0 0;\n",
              "      width: 32px;\n",
              "    }\n",
              "\n",
              "    .colab-df-convert:hover {\n",
              "      background-color: #E2EBFA;\n",
              "      box-shadow: 0px 1px 2px rgba(60, 64, 67, 0.3), 0px 1px 3px 1px rgba(60, 64, 67, 0.15);\n",
              "      fill: #174EA6;\n",
              "    }\n",
              "\n",
              "    [theme=dark] .colab-df-convert {\n",
              "      background-color: #3B4455;\n",
              "      fill: #D2E3FC;\n",
              "    }\n",
              "\n",
              "    [theme=dark] .colab-df-convert:hover {\n",
              "      background-color: #434B5C;\n",
              "      box-shadow: 0px 1px 3px 1px rgba(0, 0, 0, 0.15);\n",
              "      filter: drop-shadow(0px 1px 2px rgba(0, 0, 0, 0.3));\n",
              "      fill: #FFFFFF;\n",
              "    }\n",
              "  </style>\n",
              "\n",
              "      <script>\n",
              "        const buttonEl =\n",
              "          document.querySelector('#df-60a67435-e200-47e9-90ed-fc4bb5ed10ca button.colab-df-convert');\n",
              "        buttonEl.style.display =\n",
              "          google.colab.kernel.accessAllowed ? 'block' : 'none';\n",
              "\n",
              "        async function convertToInteractive(key) {\n",
              "          const element = document.querySelector('#df-60a67435-e200-47e9-90ed-fc4bb5ed10ca');\n",
              "          const dataTable =\n",
              "            await google.colab.kernel.invokeFunction('convertToInteractive',\n",
              "                                                     [key], {});\n",
              "          if (!dataTable) return;\n",
              "\n",
              "          const docLinkHtml = 'Like what you see? Visit the ' +\n",
              "            '<a target=\"_blank\" href=https://colab.research.google.com/notebooks/data_table.ipynb>data table notebook</a>'\n",
              "            + ' to learn more about interactive tables.';\n",
              "          element.innerHTML = '';\n",
              "          dataTable['output_type'] = 'display_data';\n",
              "          await google.colab.output.renderOutput(dataTable, element);\n",
              "          const docLink = document.createElement('div');\n",
              "          docLink.innerHTML = docLinkHtml;\n",
              "          element.appendChild(docLink);\n",
              "        }\n",
              "      </script>\n",
              "    </div>\n",
              "  </div>\n",
              "  "
            ]
          },
          "metadata": {},
          "execution_count": 3
        }
      ]
    },
    {
      "cell_type": "code",
      "source": [
        "X = insurance.iloc[:, :-1].values # feature columns: age, bmi, number of children, smoker\n",
        "y = insurance.iloc[:, 4].values # charges column"
      ],
      "metadata": {
        "id": "cSbSaEYDb0sw"
      },
      "execution_count": 4,
      "outputs": []
    },
    {
      "cell_type": "code",
      "source": [
        "plt.figure(figsize=(12,7))\n",
        "sns.heatmap(insurance.corr(), cmap=\"crest\") # view correlation matrix"
      ],
      "metadata": {
        "colab": {
          "base_uri": "https://localhost:8080/",
          "height": 449
        },
        "id": "bLpJraIHc2e5",
        "outputId": "1295e6ee-5771-4663-ead1-59ed73c861cd"
      },
      "execution_count": 9,
      "outputs": [
        {
          "output_type": "execute_result",
          "data": {
            "text/plain": [
              "<matplotlib.axes._subplots.AxesSubplot at 0x7f588ebb1b10>"
            ]
          },
          "metadata": {},
          "execution_count": 9
        },
        {
          "output_type": "display_data",
          "data": {
            "text/plain": [
              "<Figure size 864x504 with 2 Axes>"
            ],
            "image/png": "[encoded data removed]"
          },
          "metadata": {
            "needs_background": "light"
          }
        }
      ]
    },
    {
      "cell_type": "code",
      "source": [
        "# apply LabelEncoder to smoker column (categorical data)\n",
        "from sklearn.preprocessing import LabelEncoder, OneHotEncoder # import libraries\n",
        "from sklearn.compose import ColumnTransformer\n",
        "labelencoder = LabelEncoder()\n",
        "X[:, 3] = labelencoder.fit_transform(X[:, 3]) # change smoker column to numerical data\n",
        "# apply OneHotEncoder to categorical data\n",
        "ohc = ColumnTransformer([(\"smoker\", OneHotEncoder(), [3])], remainder=\"passthrough\")\n",
        "X = ohc.fit_transform(X)"
      ],
      "metadata": {
        "id": "0nZPGy9dcFbh"
      },
      "execution_count": 10,
      "outputs": []
    },
    {
      "cell_type": "code",
      "source": [
        "# remove extra column created by OneHotEncoder\n",
        "X = X[:, 1:]"
      ],
      "metadata": {
        "id": "NoERx5lQcGd3"
      },
      "execution_count": 11,
      "outputs": []
    },
    {
      "cell_type": "code",
      "source": [
        "# split data into training and testing sets, set test size to 15%\n",
        "from sklearn.model_selection import train_test_split\n",
        "X_train, X_test, y_train, y_test = train_test_split(X, y, test_size=0.15, random_state=42)"
      ],
      "metadata": {
        "id": "TRXM0V8Ngfd8"
      },
      "execution_count": 13,
      "outputs": []
    },
    {
      "cell_type": "code",
      "source": [
        "# fit multiple linear regresion to training set\n",
        "from sklearn.linear_model import LinearRegression\n",
        "linearReg = LinearRegression()\n",
        "linearReg.fit(X_train, y_train)"
      ],
      "metadata": {
        "colab": {
          "base_uri": "https://localhost:8080/"
        },
        "id": "I-iMaVePggTU",
        "outputId": "c4df4cd4-e656-4030-e179-183960fa901f"
      },
      "execution_count": 14,
      "outputs": [
        {
          "output_type": "execute_result",
          "data": {
            "text/plain": [
              "LinearRegression()"
            ]
          },
          "metadata": {},
          "execution_count": 14
        }
      ]
    },
    {
      "cell_type": "code",
      "source": [
        "# predict the test results\n",
        "y_pred = linearReg.predict(X_test)\n",
        "y_pred"
      ],
      "metadata": {
        "colab": {
          "base_uri": "https://localhost:8080/"
        },
        "id": "MPQx4RoChqTm",
        "outputId": "ed1f9f3d-78a4-49f5-bd2b-e952b65bd95d"
      },
      "execution_count": 15,
      "outputs": [
        {
          "output_type": "execute_result",
          "data": {
            "text/plain": [
              "array([ 8615.73147936,  6958.23658379, 37016.44885615,  9481.03276047,\n",
              "       26894.37590769, 10941.57830752,   154.65937972, 16746.30881445,\n",
              "         843.03119736, 11194.98200196, 28649.70057741,  9289.41941078,\n",
              "        5423.78570656, 38501.33439008, 40420.50395093, 37257.22004244,\n",
              "       15201.90612152, 36101.15289021,  9362.3778767 , 31548.56275883,\n",
              "        4277.50559508, 10446.83380855,  2652.21681395,  6412.35768831,\n",
              "       11274.81120985, 12487.54559166, 14816.32875482,  6008.35933784,\n",
              "        9587.84833762,  2309.4868235 ,  9469.19791586, 12997.85269617,\n",
              "        4588.83112144,  3479.47004647,  4772.52577285, 12400.99484251,\n",
              "        2330.35557981,  9167.23496332, 33443.68139763, 32784.07253631,\n",
              "        4203.9676991 ,  4158.63336564, 14420.92962471, 11502.50317362,\n",
              "        8840.83450608, 12573.04838453,  5044.8225515 ,  3555.44590317,\n",
              "       35699.35600635,  9156.29798647, 15977.5528571 ,  2489.97034891,\n",
              "       12035.04454062,  1037.7438814 , 13562.60552742, 12114.25602157,\n",
              "        3951.61284875, 32074.38793439, 13662.08183637, 12407.71638377,\n",
              "       14552.18716857, 10394.14017063, 16666.59051039,  7774.42278718,\n",
              "       11395.06451971,  4005.6964911 , 27142.47256355, 11250.75582579,\n",
              "        2141.29198249,  6315.74956942, 10130.10502621, 11132.93601464,\n",
              "       11131.17857601,  9322.97723277, 12012.27360696,  6926.56179071,\n",
              "        6700.4535666 , 10781.55869514,  6667.90005421,  9206.40357514,\n",
              "        3840.66377959, 36435.51569241,  6695.80878947, 30289.18955691,\n",
              "       34643.89417513, 34935.92623601,  7160.08100219, 12778.01217353,\n",
              "        9840.2615211 , 14741.96024823, 17134.49872864, 35782.71566574,\n",
              "       32773.71587732,  5752.84147019, 32177.15731291,  9799.38357935,\n",
              "       29756.56089652,  3736.13696243, 28413.72336897,  5470.33723328,\n",
              "        5308.81493703,  2177.09491777, 11503.61303724, 15364.71286817,\n",
              "       11451.52421544,  4336.61078538, 10102.22078919, 32256.58167752,\n",
              "        -436.7177364 , 33308.12201259,  3507.43622707, 10008.36906872,\n",
              "       13863.15397728, 31224.38826645, 11008.22631307,  4160.51639455,\n",
              "       12755.88346507, 32338.72325586,  8314.43436247,  3155.18465025,\n",
              "        7884.96077545, 10432.87944092, 14621.01660447,  5683.53815825,\n",
              "        3768.07274788, 10071.78679982, 10985.36808602, 10707.31577882,\n",
              "       14587.62801946,  7339.48761105,  5571.47922546,  9333.01545406,\n",
              "        9396.42783536, 11919.53798772,  8619.9224167 , 15613.82852006,\n",
              "        7832.11793681, 32274.85703478, 35630.50207219, 31220.04277858,\n",
              "        5965.23182078, 12097.60270085,  6064.92012559, 14350.19712365,\n",
              "        2738.42462716, 33552.55370266,  6213.41042023,  5364.95084525,\n",
              "       14153.10838623,  7274.27949424, 38585.01694918,  2971.53364554,\n",
              "        5793.71406213, 31245.27617121, 11243.47400291,  7911.94714471,\n",
              "       14390.00349867, 10040.86067378, 27271.30594532, 33057.46091793,\n",
              "       14106.98708884,  1602.13462826, 13697.48439037,  1828.0736154 ,\n",
              "        5695.37746487, 11637.1638031 , 40181.70219914, 36547.91756115,\n",
              "       33647.59723034,  4182.79519153,  8005.45592923,  8949.27746958,\n",
              "       11741.47327458,  4786.82307643,  2388.07522769, 32547.24110681,\n",
              "       25557.69963978, 17561.93473622, 26644.44968143, 10259.56683454,\n",
              "       37026.89280853,  -705.67333675,  6936.73095209,  8027.49734431,\n",
              "        4031.55296049,  4886.91711233,  5439.6231031 ,  4661.12821371,\n",
              "       15092.99016979, 11153.09528861,  7089.06836032,  2000.65759099,\n",
              "        1146.42333902, 32254.99705007, 16518.54959354, 12156.20106805,\n",
              "        1210.95093374, 12132.66231891,  1097.92598825,  9203.46812794,\n",
              "        1887.01491855])"
            ]
          },
          "metadata": {},
          "execution_count": 15
        }
      ]
    },
    {
      "cell_type": "code",
      "source": [
        "# calculate the coefficient\n",
        "print(linearReg.coef_)"
      ],
      "metadata": {
        "colab": {
          "base_uri": "https://localhost:8080/"
        },
        "id": "heMP93Ubh3ZE",
        "outputId": "1b4f4377-6519-471e-aee0-e7a8b99575d5"
      },
      "execution_count": 16,
      "outputs": [
        {
          "output_type": "stream",
          "name": "stdout",
          "text": [
            "[23760.70223894   260.37552844   316.74793078   424.37943211]\n"
          ]
        }
      ]
    },
    {
      "cell_type": "code",
      "source": [
        "# calculate the intercept\n",
        "print(linearReg.intercept_)"
      ],
      "metadata": {
        "colab": {
          "base_uri": "https://localhost:8080/"
        },
        "id": "VO_5HY8Uj0GM",
        "outputId": "42d7b613-aae6-406d-ec05-6e4aa9b0b824"
      },
      "execution_count": 17,
      "outputs": [
        {
          "output_type": "stream",
          "name": "stdout",
          "text": [
            "-11924.055322322132\n"
          ]
        }
      ]
    },
    {
      "cell_type": "code",
      "source": [
        "# calculate the r2 score\n",
        "from sklearn.metrics import r2_score\n",
        "r2_score(y_test, y_pred)"
      ],
      "metadata": {
        "colab": {
          "base_uri": "https://localhost:8080/"
        },
        "id": "CE6xqWJlj5qM",
        "outputId": "c7632187-41a9-4153-9ccc-252c64a224a1"
      },
      "execution_count": 18,
      "outputs": [
        {
          "output_type": "execute_result",
          "data": {
            "text/plain": [
              "0.7936773121565154"
            ]
          },
          "metadata": {},
          "execution_count": 18
        }
      ]
    },
    {
      "cell_type": "code",
      "source": [],
      "metadata": {
        "id": "GSsleqDzkKA0"
      },
      "execution_count": null,
      "outputs": []
    }
  ]
}