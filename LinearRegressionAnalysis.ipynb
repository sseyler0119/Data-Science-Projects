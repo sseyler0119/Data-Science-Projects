{
  "nbformat": 4,
  "nbformat_minor": 0,
  "metadata": {
    "colab": {
      "provenance": [],
      "authorship_tag": "ABX9TyOxi78540uNPcUYeAIAgXW5",
      "include_colab_link": true
    },
    "kernelspec": {
      "name": "python3",
      "display_name": "Python 3"
    },
    "language_info": {
      "name": "python"
    }
  },
  "cells": [
    {
      "cell_type": "markdown",
      "metadata": {
        "id": "view-in-github",
        "colab_type": "text"
      },
      "source": [
        "<a href=\"https://colab.research.google.com/github/sseyler0119/Data-Science-Projects/blob/master/LinearRegressionAnalysis.ipynb\" target=\"_parent\"><img src=\"https://colab.research.google.com/assets/colab-badge.svg\" alt=\"Open In Colab\"/></a>"
      ]
    },
    {
      "cell_type": "code",
      "execution_count": 23,
      "metadata": {
        "id": "Xio6JjVRrpGH"
      },
      "outputs": [],
      "source": [
        "# import libraries\n",
        "import numpy as np\n",
        "import pandas as pd\n",
        "import matplotlib.pyplot as plt\n",
        "import seaborn as sns\n",
        "\n",
        "%matplotlib inline"
      ]
    },
    {
      "cell_type": "code",
      "source": [
        "# import the dataset and extract the independent and dependent variables\n",
        "companies = pd.read_csv('https://raw.githubusercontent.com/sseyler0119/datasets/master/1000_Companies.csv')\n",
        "X = companies.iloc[:, :-1].values\n",
        "y = companies.iloc[:, 4].values\n",
        "\n",
        "companies.head()"
      ],
      "metadata": {
        "colab": {
          "base_uri": "https://localhost:8080/",
          "height": 206
        },
        "id": "ORUpVaVuxjKt",
        "outputId": "191137e8-2cc6-45a0-8f35-fe6a88b5d1fc"
      },
      "execution_count": 24,
      "outputs": [
        {
          "output_type": "execute_result",
          "data": {
            "text/plain": [
              "   R&D Spend  Administration  Marketing Spend       State     Profit\n",
              "0  165349.20       136897.80        471784.10    New York  192261.83\n",
              "1  162597.70       151377.59        443898.53  California  191792.06\n",
              "2  153441.51       101145.55        407934.54     Florida  191050.39\n",
              "3  144372.41       118671.85        383199.62    New York  182901.99\n",
              "4  142107.34        91391.77        366168.42     Florida  166187.94"
            ],
            "text/html": [
              "\n",
              "  <div id=\"df-8ca68ded-a64b-4e49-bc78-8ccef9f0bc58\">\n",
              "    <div class=\"colab-df-container\">\n",
              "      <div>\n",
              "<style scoped>\n",
              "    .dataframe tbody tr th:only-of-type {\n",
              "        vertical-align: middle;\n",
              "    }\n",
              "\n",
              "    .dataframe tbody tr th {\n",
              "        vertical-align: top;\n",
              "    }\n",
              "\n",
              "    .dataframe thead th {\n",
              "        text-align: right;\n",
              "    }\n",
              "</style>\n",
              "<table border=\"1\" class=\"dataframe\">\n",
              "  <thead>\n",
              "    <tr style=\"text-align: right;\">\n",
              "      <th></th>\n",
              "      <th>R&amp;D Spend</th>\n",
              "      <th>Administration</th>\n",
              "      <th>Marketing Spend</th>\n",
              "      <th>State</th>\n",
              "      <th>Profit</th>\n",
              "    </tr>\n",
              "  </thead>\n",
              "  <tbody>\n",
              "    <tr>\n",
              "      <th>0</th>\n",
              "      <td>165349.20</td>\n",
              "      <td>136897.80</td>\n",
              "      <td>471784.10</td>\n",
              "      <td>New York</td>\n",
              "      <td>192261.83</td>\n",
              "    </tr>\n",
              "    <tr>\n",
              "      <th>1</th>\n",
              "      <td>162597.70</td>\n",
              "      <td>151377.59</td>\n",
              "      <td>443898.53</td>\n",
              "      <td>California</td>\n",
              "      <td>191792.06</td>\n",
              "    </tr>\n",
              "    <tr>\n",
              "      <th>2</th>\n",
              "      <td>153441.51</td>\n",
              "      <td>101145.55</td>\n",
              "      <td>407934.54</td>\n",
              "      <td>Florida</td>\n",
              "      <td>191050.39</td>\n",
              "    </tr>\n",
              "    <tr>\n",
              "      <th>3</th>\n",
              "      <td>144372.41</td>\n",
              "      <td>118671.85</td>\n",
              "      <td>383199.62</td>\n",
              "      <td>New York</td>\n",
              "      <td>182901.99</td>\n",
              "    </tr>\n",
              "    <tr>\n",
              "      <th>4</th>\n",
              "      <td>142107.34</td>\n",
              "      <td>91391.77</td>\n",
              "      <td>366168.42</td>\n",
              "      <td>Florida</td>\n",
              "      <td>166187.94</td>\n",
              "    </tr>\n",
              "  </tbody>\n",
              "</table>\n",
              "</div>\n",
              "      <button class=\"colab-df-convert\" onclick=\"convertToInteractive('df-8ca68ded-a64b-4e49-bc78-8ccef9f0bc58')\"\n",
              "              title=\"Convert this dataframe to an interactive table.\"\n",
              "              style=\"display:none;\">\n",
              "        \n",
              "  <svg xmlns=\"http://www.w3.org/2000/svg\" height=\"24px\"viewBox=\"0 0 24 24\"\n",
              "       width=\"24px\">\n",
              "    <path d=\"M0 0h24v24H0V0z\" fill=\"none\"/>\n",
              "    <path d=\"M18.56 5.44l.94 2.06.94-2.06 2.06-.94-2.06-.94-.94-2.06-.94 2.06-2.06.94zm-11 1L8.5 8.5l.94-2.06 2.06-.94-2.06-.94L8.5 2.5l-.94 2.06-2.06.94zm10 10l.94 2.06.94-2.06 2.06-.94-2.06-.94-.94-2.06-.94 2.06-2.06.94z\"/><path d=\"M17.41 7.96l-1.37-1.37c-.4-.4-.92-.59-1.43-.59-.52 0-1.04.2-1.43.59L10.3 9.45l-7.72 7.72c-.78.78-.78 2.05 0 2.83L4 21.41c.39.39.9.59 1.41.59.51 0 1.02-.2 1.41-.59l7.78-7.78 2.81-2.81c.8-.78.8-2.07 0-2.86zM5.41 20L4 18.59l7.72-7.72 1.47 1.35L5.41 20z\"/>\n",
              "  </svg>\n",
              "      </button>\n",
              "      \n",
              "  <style>\n",
              "    .colab-df-container {\n",
              "      display:flex;\n",
              "      flex-wrap:wrap;\n",
              "      gap: 12px;\n",
              "    }\n",
              "\n",
              "    .colab-df-convert {\n",
              "      background-color: #E8F0FE;\n",
              "      border: none;\n",
              "      border-radius: 50%;\n",
              "      cursor: pointer;\n",
              "      display: none;\n",
              "      fill: #1967D2;\n",
              "      height: 32px;\n",
              "      padding: 0 0 0 0;\n",
              "      width: 32px;\n",
              "    }\n",
              "\n",
              "    .colab-df-convert:hover {\n",
              "      background-color: #E2EBFA;\n",
              "      box-shadow: 0px 1px 2px rgba(60, 64, 67, 0.3), 0px 1px 3px 1px rgba(60, 64, 67, 0.15);\n",
              "      fill: #174EA6;\n",
              "    }\n",
              "\n",
              "    [theme=dark] .colab-df-convert {\n",
              "      background-color: #3B4455;\n",
              "      fill: #D2E3FC;\n",
              "    }\n",
              "\n",
              "    [theme=dark] .colab-df-convert:hover {\n",
              "      background-color: #434B5C;\n",
              "      box-shadow: 0px 1px 3px 1px rgba(0, 0, 0, 0.15);\n",
              "      filter: drop-shadow(0px 1px 2px rgba(0, 0, 0, 0.3));\n",
              "      fill: #FFFFFF;\n",
              "    }\n",
              "  </style>\n",
              "\n",
              "      <script>\n",
              "        const buttonEl =\n",
              "          document.querySelector('#df-8ca68ded-a64b-4e49-bc78-8ccef9f0bc58 button.colab-df-convert');\n",
              "        buttonEl.style.display =\n",
              "          google.colab.kernel.accessAllowed ? 'block' : 'none';\n",
              "\n",
              "        async function convertToInteractive(key) {\n",
              "          const element = document.querySelector('#df-8ca68ded-a64b-4e49-bc78-8ccef9f0bc58');\n",
              "          const dataTable =\n",
              "            await google.colab.kernel.invokeFunction('convertToInteractive',\n",
              "                                                     [key], {});\n",
              "          if (!dataTable) return;\n",
              "\n",
              "          const docLinkHtml = 'Like what you see? Visit the ' +\n",
              "            '<a target=\"_blank\" href=https://colab.research.google.com/notebooks/data_table.ipynb>data table notebook</a>'\n",
              "            + ' to learn more about interactive tables.';\n",
              "          element.innerHTML = '';\n",
              "          dataTable['output_type'] = 'display_data';\n",
              "          await google.colab.output.renderOutput(dataTable, element);\n",
              "          const docLink = document.createElement('div');\n",
              "          docLink.innerHTML = docLinkHtml;\n",
              "          element.appendChild(docLink);\n",
              "        }\n",
              "      </script>\n",
              "    </div>\n",
              "  </div>\n",
              "  "
            ]
          },
          "metadata": {},
          "execution_count": 24
        }
      ]
    },
    {
      "cell_type": "code",
      "source": [
        "# data visualization\n",
        "# Build the correlation matrix\n",
        "sns.heatmap(companies.corr(), cmap=\"crest\") # changed color map"
      ],
      "metadata": {
        "colab": {
          "base_uri": "https://localhost:8080/",
          "height": 361
        },
        "id": "w3EG0oaA8sOI",
        "outputId": "bd5fe969-1f08-4f21-b6bc-29589079a5d0"
      },
      "execution_count": 25,
      "outputs": [
        {
          "output_type": "execute_result",
          "data": {
            "text/plain": [
              "<matplotlib.axes._subplots.AxesSubplot at 0x7f35de177ad0>"
            ]
          },
          "metadata": {},
          "execution_count": 25
        },
        {
          "output_type": "display_data",
          "data": {
            "text/plain": [
              "<Figure size 432x288 with 2 Axes>"
            ],
            "image/png": "[encoded data removed]"
          },
          "metadata": {
            "needs_background": "light"
          }
        }
      ]
    },
    {
      "cell_type": "code",
      "source": [
        "# Encoding categorical data\n",
        "from sklearn.preprocessing import LabelEncoder, OneHotEncoder\n",
        "from sklearn.compose import ColumnTransformer\n",
        "labelencoder = LabelEncoder()\n",
        "X[:, 3] = labelencoder.fit_transform(X[:, 3]) # change categorical State values in column 3 to numerical values\n",
        "onehotencoder = ColumnTransformer([(\"State\", OneHotEncoder(), [3])], remainder=\"passthrough\")\n",
        "X = onehotencoder.fit_transform(X)"
      ],
      "metadata": {
        "id": "payh5R189jov"
      },
      "execution_count": 26,
      "outputs": []
    },
    {
      "cell_type": "code",
      "source": [
        "# avoiding dummy variable trap\n",
        "X = X[:, 1:] # remove the extra column created by the OneHotEncoder"
      ],
      "metadata": {
        "id": "YKUR-eH93tbR"
      },
      "execution_count": 27,
      "outputs": []
    },
    {
      "cell_type": "code",
      "source": [
        "# split the dataset into Training and Testing sets\n",
        "from sklearn.model_selection import train_test_split\n",
        "X_train, X_test, y_train, y_test = train_test_split(X, y, test_size=0.2, random_state=0)"
      ],
      "metadata": {
        "id": "tlcOecXS6Wr_"
      },
      "execution_count": 28,
      "outputs": []
    },
    {
      "cell_type": "code",
      "source": [
        "# fitting multiplie linear regression to the training set\n",
        "from sklearn.linear_model import LinearRegression\n",
        "regressor = LinearRegression()\n",
        "regressor.fit(X_train, y_train)"
      ],
      "metadata": {
        "colab": {
          "base_uri": "https://localhost:8080/"
        },
        "id": "ELsKVMN3619n",
        "outputId": "1505b3b0-730d-472c-90a2-f769457b8dd3"
      },
      "execution_count": 30,
      "outputs": [
        {
          "output_type": "execute_result",
          "data": {
            "text/plain": [
              "LinearRegression()"
            ]
          },
          "metadata": {},
          "execution_count": 30
        }
      ]
    },
    {
      "cell_type": "code",
      "source": [
        "# predicting the test set results\n",
        "y_pred = regressor.predict(X_test)\n",
        "y_pred"
      ],
      "metadata": {
        "id": "upQBd9jC7Lq_",
        "colab": {
          "base_uri": "https://localhost:8080/"
        },
        "outputId": "bb5175a1-fca3-422a-cc36-147e9c638104"
      },
      "execution_count": 31,
      "outputs": [
        {
          "output_type": "execute_result",
          "data": {
            "text/plain": [
              "array([ 89790.61532915,  88427.07187361,  94894.67836971, 175680.86725611,\n",
              "        83411.73042088, 110571.90200074, 132145.2293644 ,  91473.37719686,\n",
              "       164597.05380607,  53222.826674  ,  66950.19050989, 150566.43987005,\n",
              "       126915.20858596,  59337.85971049, 177513.91053062,  75316.28143051,\n",
              "       118248.14406603, 164574.40699902, 170937.2898107 , 182069.11645085,\n",
              "       118845.03252689,  85669.95112228, 180992.59396144,  84145.08220144,\n",
              "       105005.83769214, 101233.56772746,  53831.0766909 ,  56881.41475223,\n",
              "        68896.39346904, 210040.00765884, 120778.72270894, 111724.87157654,\n",
              "       101487.90541517, 137959.02649624,  63969.95996743, 108857.91214126,\n",
              "       186014.72531988, 171442.64130748, 174644.26529205, 117671.49128195,\n",
              "        96731.37857433, 165452.2577941 , 107724.34331255,  50194.54176912,\n",
              "       116513.89532179,  58632.4898682 , 158416.4682761 ,  78541.48521609,\n",
              "       159727.66671744, 131137.87699644, 184880.70924517, 174609.0826688 ,\n",
              "        93745.66352059,  78341.13383417, 180745.9043908 ,  84461.61490552,\n",
              "       142900.90602903, 170618.44098397,  84365.09530839, 105307.3716218 ,\n",
              "       141660.07290787,  52527.34340441, 141842.96264161, 139176.27973195,\n",
              "        98294.52669666, 113586.86790969, 126754.21895489, 152135.51985562,\n",
              "        58864.51658954, 174285.5736113 , 124624.04380784, 169065.77658979,\n",
              "        91279.33198209, 156170.37268963,  84307.26579365,  77877.75223096,\n",
              "       120414.02421346,  93380.44273241, 139020.62514121, 143604.67103573,\n",
              "       171148.30815369, 140082.97050132, 106369.71689747, 155641.43851388,\n",
              "       140030.10330037, 110172.87893525,  69672.98677564,  88148.52068041,\n",
              "       140133.59925093, 148479.09537888, 157916.63505257,  58532.9486314 ,\n",
              "        93707.3842239 , 112646.37475705,  56556.1894366 , 107414.89996181,\n",
              "       147352.80227753, 152144.10104034, 167808.11701784, 118750.25230713,\n",
              "       120763.27666701, 139029.95295663, 157527.9093412 , 121962.0621496 ,\n",
              "        87091.32399736, 104792.91384333,  95335.22679185, 178389.52287437,\n",
              "       181942.63776382, 109831.34945506, 165254.03344097, 167806.06491903,\n",
              "       158002.44642544, 174782.86900957, 170196.77102699,  52302.18161611,\n",
              "       176938.1159579 , 104751.83583865,  82710.31528805, 138890.52767844,\n",
              "       144274.74675425, 161679.01836441, 169662.05445896, 120450.9231013 ,\n",
              "       158880.70799547, 110213.73252824, 169674.51532367,  60760.61300841,\n",
              "       159036.99629068, 158169.44286048, 174511.70494476, 156294.79927784,\n",
              "       103714.37583212,  85635.96237574, 141603.54878757, 165917.6915698 ,\n",
              "       121182.03641977, 170751.87883894, 100505.77549411,  82097.51033127,\n",
              "       178643.18879843, 101790.48384578,  70507.40958621,  90250.04230088,\n",
              "        61247.49962679,  68912.1753452 ,  72775.81613475, 176914.08873125,\n",
              "        89704.69244931, 129209.43730016,  92672.90938382,  88133.59175043,\n",
              "       172836.33021619,  60893.62070013, 169015.89446011, 166450.24453205,\n",
              "       165425.54476416, 102170.5169499 , 181594.57928217,  73702.57942561,\n",
              "        91267.42979668, 135791.54160195,  64922.80257299,  71775.70235725,\n",
              "        60603.91401515, 184288.61041916, 176286.69585946, 158907.75687039,\n",
              "       141359.32216439, 154611.17928321,  58549.58863232,  90618.58407899,\n",
              "       152885.51163925, 168398.05223806,  72485.36274539, 116064.24350667,\n",
              "        80087.80697208, 149828.90896188, 116806.9595737 , 130191.48845161,\n",
              "       174534.42670329, 293584.45948284, 146270.83174789, 150646.69178014,\n",
              "        86107.47782247,  69967.20842245,  70096.78368773,  69033.69170768,\n",
              "       120666.75708064,  89677.68014063, 166824.27091663, 125514.76626409,\n",
              "        67209.67687466, 140930.69427702, 118544.30490695, 165897.61905907,\n",
              "       168655.48652553, 147009.66805049, 141396.22104147, 109086.50634849])"
            ]
          },
          "metadata": {},
          "execution_count": 31
        }
      ]
    },
    {
      "cell_type": "code",
      "source": [
        "# calculating the coefficients\n",
        "print(regressor.coef_)"
      ],
      "metadata": {
        "colab": {
          "base_uri": "https://localhost:8080/"
        },
        "id": "EwYbSdiiXU0S",
        "outputId": "3b9f785d-2e07-4851-f643-a7b28dc69129"
      },
      "execution_count": 32,
      "outputs": [
        {
          "output_type": "stream",
          "name": "stdout",
          "text": [
            "[-8.80536598e+02 -6.98169073e+02  5.25845857e-01  8.44390881e-01\n",
            "  1.07574255e-01]\n"
          ]
        }
      ]
    },
    {
      "cell_type": "code",
      "source": [
        "# calculating the intercept\n",
        "print(regressor.intercept_)"
      ],
      "metadata": {
        "colab": {
          "base_uri": "https://localhost:8080/"
        },
        "id": "QSQIW2ZjXm4C",
        "outputId": "77c6181c-a662-454c-b012-0e2f440a835c"
      },
      "execution_count": 33,
      "outputs": [
        {
          "output_type": "stream",
          "name": "stdout",
          "text": [
            "-51035.22972404538\n"
          ]
        }
      ]
    },
    {
      "cell_type": "code",
      "source": [
        "# calculating the R squared value\n",
        "from sklearn.metrics import r2_score\n",
        "r2_score(y_test, y_pred) # r2 > .91, this model is a good fit"
      ],
      "metadata": {
        "colab": {
          "base_uri": "https://localhost:8080/"
        },
        "id": "RQdv7smNXqTa",
        "outputId": "88ee3154-25b8-4e3c-e7a8-ac3d0034d449"
      },
      "execution_count": 34,
      "outputs": [
        {
          "output_type": "execute_result",
          "data": {
            "text/plain": [
              "0.9112695892268894"
            ]
          },
          "metadata": {},
          "execution_count": 34
        }
      ]
    },
    {
      "cell_type": "code",
      "source": [],
      "metadata": {
        "id": "hovAb582YNZi"
      },
      "execution_count": null,
      "outputs": []
    }
  ]
}