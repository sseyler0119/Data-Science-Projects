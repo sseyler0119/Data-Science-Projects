{
  "nbformat": 4,
  "nbformat_minor": 0,
  "metadata": {
    "colab": {
      "provenance": [],
      "authorship_tag": "ABX9TyPfR0f24PJbisUjYlcE40sP",
      "include_colab_link": true
    },
    "kernelspec": {
      "name": "python3",
      "display_name": "Python 3"
    },
    "language_info": {
      "name": "python"
    }
  },
  "cells": [
    {
      "cell_type": "markdown",
      "metadata": {
        "id": "view-in-github",
        "colab_type": "text"
      },
      "source": [
        "<a href=\"https://colab.research.google.com/github/sseyler0119/Data-Science-Projects/blob/master/LogisticRegression.ipynb\" target=\"_parent\"><img src=\"https://colab.research.google.com/assets/colab-badge.svg\" alt=\"Open In Colab\"/></a>"
      ]
    },
    {
      "cell_type": "code",
      "execution_count": 19,
      "metadata": {
        "id": "07FD_qywQVAS"
      },
      "outputs": [],
      "source": [
        "import pandas as pd"
      ]
    },
    {
      "cell_type": "code",
      "source": [
        "data = pd.read_csv('https://raw.githubusercontent.com/sseyler0119/datasets/master/gender_voice_dataset.csv') # Gender Voice Dataset\n",
        "data.sample(10)"
      ],
      "metadata": {
        "colab": {
          "base_uri": "https://localhost:8080/",
          "height": 456
        },
        "id": "mG3_4JB7VaDH",
        "outputId": "9118d5e1-0f59-4da6-f11f-ce4e6392665f"
      },
      "execution_count": 20,
      "outputs": [
        {
          "output_type": "execute_result",
          "data": {
            "text/plain": [
              "      meanfreq        sd    median       Q25       Q75       IQR      skew  \\\n",
              "1872  0.148975  0.087243  0.190420  0.050795  0.217945  0.167149  2.138170   \n",
              "444   0.187127  0.059577  0.209517  0.132276  0.233655  0.101379  1.879900   \n",
              "1424  0.191088  0.059123  0.200675  0.156762  0.237504  0.080742  0.759968   \n",
              "2259  0.143133  0.088920  0.175501  0.050247  0.218830  0.168583  1.073173   \n",
              "1524  0.155083  0.069933  0.140259  0.107918  0.219123  0.111204  5.448489   \n",
              "1639  0.163785  0.067437  0.163309  0.141287  0.211931  0.070644  2.984360   \n",
              "969   0.189983  0.060065  0.192221  0.133701  0.244238  0.110537  1.406457   \n",
              "407   0.186411  0.064738  0.204231  0.136538  0.237308  0.100769  1.615809   \n",
              "647   0.171713  0.061671  0.189894  0.152660  0.207766  0.055106  2.818282   \n",
              "1122  0.186150  0.055903  0.189562  0.142044  0.235547  0.093504  0.851722   \n",
              "\n",
              "           kurt    sp.ent       sfm  ...  centroid   meanfun    minfun  \\\n",
              "1872   8.352815  0.939007  0.622045  ...  0.148975  0.183926  0.081633   \n",
              "444    6.761890  0.914311  0.482246  ...  0.187127  0.110099  0.062745   \n",
              "1424   2.603362  0.930385  0.451028  ...  0.191088  0.134565  0.048193   \n",
              "2259   3.971287  0.966103  0.767905  ...  0.143133  0.164229  0.021592   \n",
              "1524  58.052852  0.887048  0.463191  ...  0.155083  0.109726  0.015936   \n",
              "1639  14.447494  0.949167  0.698218  ...  0.163785  0.140512  0.016194   \n",
              "969    4.461628  0.903181  0.333160  ...  0.189983  0.122174  0.047198   \n",
              "407    5.461153  0.921531  0.501477  ...  0.186411  0.121836  0.022409   \n",
              "647   11.990365  0.920936  0.553174  ...  0.171713  0.177866  0.027165   \n",
              "1122   2.900995  0.924422  0.444776  ...  0.186150  0.128891  0.047291   \n",
              "\n",
              "        maxfun   meandom    mindom    maxdom   dfrange   modindx   label  \n",
              "1872  0.242424  0.407484  0.007812  3.117188  3.109375  0.176471  female  \n",
              "444   0.155340  0.546875  0.164062  2.625000  2.460938  0.233016    male  \n",
              "1424  0.275862  1.612165  0.023438  5.601562  5.578125  0.144106    male  \n",
              "2259  0.266667  0.735840  0.007812  3.578125  3.570312  0.285339  female  \n",
              "1524  0.271186  0.090732  0.007812  0.632812  0.625000  0.132738    male  \n",
              "1639  0.235294  0.189062  0.007812  0.367188  0.359375  0.333851  female  \n",
              "969   0.266667  0.735539  0.023438  5.625000  5.601562  0.092663    male  \n",
              "407   0.231884  0.805469  0.148438  3.804688  3.656250  0.308704    male  \n",
              "647   0.271186  1.133854  0.031250  5.789062  5.757812  0.198301    male  \n",
              "1122  0.275862  1.298564  0.023438  8.929688  8.906250  0.165461    male  \n",
              "\n",
              "[10 rows x 21 columns]"
            ],
            "text/html": [
              "\n",
              "  <div id=\"df-7ea6b593-39f2-49a6-bb5d-f4fdec4ab239\">\n",
              "    <div class=\"colab-df-container\">\n",
              "      <div>\n",
              "<style scoped>\n",
              "    .dataframe tbody tr th:only-of-type {\n",
              "        vertical-align: middle;\n",
              "    }\n",
              "\n",
              "    .dataframe tbody tr th {\n",
              "        vertical-align: top;\n",
              "    }\n",
              "\n",
              "    .dataframe thead th {\n",
              "        text-align: right;\n",
              "    }\n",
              "</style>\n",
              "<table border=\"1\" class=\"dataframe\">\n",
              "  <thead>\n",
              "    <tr style=\"text-align: right;\">\n",
              "      <th></th>\n",
              "      <th>meanfreq</th>\n",
              "      <th>sd</th>\n",
              "      <th>median</th>\n",
              "      <th>Q25</th>\n",
              "      <th>Q75</th>\n",
              "      <th>IQR</th>\n",
              "      <th>skew</th>\n",
              "      <th>kurt</th>\n",
              "      <th>sp.ent</th>\n",
              "      <th>sfm</th>\n",
              "      <th>...</th>\n",
              "      <th>centroid</th>\n",
              "      <th>meanfun</th>\n",
              "      <th>minfun</th>\n",
              "      <th>maxfun</th>\n",
              "      <th>meandom</th>\n",
              "      <th>mindom</th>\n",
              "      <th>maxdom</th>\n",
              "      <th>dfrange</th>\n",
              "      <th>modindx</th>\n",
              "      <th>label</th>\n",
              "    </tr>\n",
              "  </thead>\n",
              "  <tbody>\n",
              "    <tr>\n",
              "      <th>1872</th>\n",
              "      <td>0.148975</td>\n",
              "      <td>0.087243</td>\n",
              "      <td>0.190420</td>\n",
              "      <td>0.050795</td>\n",
              "      <td>0.217945</td>\n",
              "      <td>0.167149</td>\n",
              "      <td>2.138170</td>\n",
              "      <td>8.352815</td>\n",
              "      <td>0.939007</td>\n",
              "      <td>0.622045</td>\n",
              "      <td>...</td>\n",
              "      <td>0.148975</td>\n",
              "      <td>0.183926</td>\n",
              "      <td>0.081633</td>\n",
              "      <td>0.242424</td>\n",
              "      <td>0.407484</td>\n",
              "      <td>0.007812</td>\n",
              "      <td>3.117188</td>\n",
              "      <td>3.109375</td>\n",
              "      <td>0.176471</td>\n",
              "      <td>female</td>\n",
              "    </tr>\n",
              "    <tr>\n",
              "      <th>444</th>\n",
              "      <td>0.187127</td>\n",
              "      <td>0.059577</td>\n",
              "      <td>0.209517</td>\n",
              "      <td>0.132276</td>\n",
              "      <td>0.233655</td>\n",
              "      <td>0.101379</td>\n",
              "      <td>1.879900</td>\n",
              "      <td>6.761890</td>\n",
              "      <td>0.914311</td>\n",
              "      <td>0.482246</td>\n",
              "      <td>...</td>\n",
              "      <td>0.187127</td>\n",
              "      <td>0.110099</td>\n",
              "      <td>0.062745</td>\n",
              "      <td>0.155340</td>\n",
              "      <td>0.546875</td>\n",
              "      <td>0.164062</td>\n",
              "      <td>2.625000</td>\n",
              "      <td>2.460938</td>\n",
              "      <td>0.233016</td>\n",
              "      <td>male</td>\n",
              "    </tr>\n",
              "    <tr>\n",
              "      <th>1424</th>\n",
              "      <td>0.191088</td>\n",
              "      <td>0.059123</td>\n",
              "      <td>0.200675</td>\n",
              "      <td>0.156762</td>\n",
              "      <td>0.237504</td>\n",
              "      <td>0.080742</td>\n",
              "      <td>0.759968</td>\n",
              "      <td>2.603362</td>\n",
              "      <td>0.930385</td>\n",
              "      <td>0.451028</td>\n",
              "      <td>...</td>\n",
              "      <td>0.191088</td>\n",
              "      <td>0.134565</td>\n",
              "      <td>0.048193</td>\n",
              "      <td>0.275862</td>\n",
              "      <td>1.612165</td>\n",
              "      <td>0.023438</td>\n",
              "      <td>5.601562</td>\n",
              "      <td>5.578125</td>\n",
              "      <td>0.144106</td>\n",
              "      <td>male</td>\n",
              "    </tr>\n",
              "    <tr>\n",
              "      <th>2259</th>\n",
              "      <td>0.143133</td>\n",
              "      <td>0.088920</td>\n",
              "      <td>0.175501</td>\n",
              "      <td>0.050247</td>\n",
              "      <td>0.218830</td>\n",
              "      <td>0.168583</td>\n",
              "      <td>1.073173</td>\n",
              "      <td>3.971287</td>\n",
              "      <td>0.966103</td>\n",
              "      <td>0.767905</td>\n",
              "      <td>...</td>\n",
              "      <td>0.143133</td>\n",
              "      <td>0.164229</td>\n",
              "      <td>0.021592</td>\n",
              "      <td>0.266667</td>\n",
              "      <td>0.735840</td>\n",
              "      <td>0.007812</td>\n",
              "      <td>3.578125</td>\n",
              "      <td>3.570312</td>\n",
              "      <td>0.285339</td>\n",
              "      <td>female</td>\n",
              "    </tr>\n",
              "    <tr>\n",
              "      <th>1524</th>\n",
              "      <td>0.155083</td>\n",
              "      <td>0.069933</td>\n",
              "      <td>0.140259</td>\n",
              "      <td>0.107918</td>\n",
              "      <td>0.219123</td>\n",
              "      <td>0.111204</td>\n",
              "      <td>5.448489</td>\n",
              "      <td>58.052852</td>\n",
              "      <td>0.887048</td>\n",
              "      <td>0.463191</td>\n",
              "      <td>...</td>\n",
              "      <td>0.155083</td>\n",
              "      <td>0.109726</td>\n",
              "      <td>0.015936</td>\n",
              "      <td>0.271186</td>\n",
              "      <td>0.090732</td>\n",
              "      <td>0.007812</td>\n",
              "      <td>0.632812</td>\n",
              "      <td>0.625000</td>\n",
              "      <td>0.132738</td>\n",
              "      <td>male</td>\n",
              "    </tr>\n",
              "    <tr>\n",
              "      <th>1639</th>\n",
              "      <td>0.163785</td>\n",
              "      <td>0.067437</td>\n",
              "      <td>0.163309</td>\n",
              "      <td>0.141287</td>\n",
              "      <td>0.211931</td>\n",
              "      <td>0.070644</td>\n",
              "      <td>2.984360</td>\n",
              "      <td>14.447494</td>\n",
              "      <td>0.949167</td>\n",
              "      <td>0.698218</td>\n",
              "      <td>...</td>\n",
              "      <td>0.163785</td>\n",
              "      <td>0.140512</td>\n",
              "      <td>0.016194</td>\n",
              "      <td>0.235294</td>\n",
              "      <td>0.189062</td>\n",
              "      <td>0.007812</td>\n",
              "      <td>0.367188</td>\n",
              "      <td>0.359375</td>\n",
              "      <td>0.333851</td>\n",
              "      <td>female</td>\n",
              "    </tr>\n",
              "    <tr>\n",
              "      <th>969</th>\n",
              "      <td>0.189983</td>\n",
              "      <td>0.060065</td>\n",
              "      <td>0.192221</td>\n",
              "      <td>0.133701</td>\n",
              "      <td>0.244238</td>\n",
              "      <td>0.110537</td>\n",
              "      <td>1.406457</td>\n",
              "      <td>4.461628</td>\n",
              "      <td>0.903181</td>\n",
              "      <td>0.333160</td>\n",
              "      <td>...</td>\n",
              "      <td>0.189983</td>\n",
              "      <td>0.122174</td>\n",
              "      <td>0.047198</td>\n",
              "      <td>0.266667</td>\n",
              "      <td>0.735539</td>\n",
              "      <td>0.023438</td>\n",
              "      <td>5.625000</td>\n",
              "      <td>5.601562</td>\n",
              "      <td>0.092663</td>\n",
              "      <td>male</td>\n",
              "    </tr>\n",
              "    <tr>\n",
              "      <th>407</th>\n",
              "      <td>0.186411</td>\n",
              "      <td>0.064738</td>\n",
              "      <td>0.204231</td>\n",
              "      <td>0.136538</td>\n",
              "      <td>0.237308</td>\n",
              "      <td>0.100769</td>\n",
              "      <td>1.615809</td>\n",
              "      <td>5.461153</td>\n",
              "      <td>0.921531</td>\n",
              "      <td>0.501477</td>\n",
              "      <td>...</td>\n",
              "      <td>0.186411</td>\n",
              "      <td>0.121836</td>\n",
              "      <td>0.022409</td>\n",
              "      <td>0.231884</td>\n",
              "      <td>0.805469</td>\n",
              "      <td>0.148438</td>\n",
              "      <td>3.804688</td>\n",
              "      <td>3.656250</td>\n",
              "      <td>0.308704</td>\n",
              "      <td>male</td>\n",
              "    </tr>\n",
              "    <tr>\n",
              "      <th>647</th>\n",
              "      <td>0.171713</td>\n",
              "      <td>0.061671</td>\n",
              "      <td>0.189894</td>\n",
              "      <td>0.152660</td>\n",
              "      <td>0.207766</td>\n",
              "      <td>0.055106</td>\n",
              "      <td>2.818282</td>\n",
              "      <td>11.990365</td>\n",
              "      <td>0.920936</td>\n",
              "      <td>0.553174</td>\n",
              "      <td>...</td>\n",
              "      <td>0.171713</td>\n",
              "      <td>0.177866</td>\n",
              "      <td>0.027165</td>\n",
              "      <td>0.271186</td>\n",
              "      <td>1.133854</td>\n",
              "      <td>0.031250</td>\n",
              "      <td>5.789062</td>\n",
              "      <td>5.757812</td>\n",
              "      <td>0.198301</td>\n",
              "      <td>male</td>\n",
              "    </tr>\n",
              "    <tr>\n",
              "      <th>1122</th>\n",
              "      <td>0.186150</td>\n",
              "      <td>0.055903</td>\n",
              "      <td>0.189562</td>\n",
              "      <td>0.142044</td>\n",
              "      <td>0.235547</td>\n",
              "      <td>0.093504</td>\n",
              "      <td>0.851722</td>\n",
              "      <td>2.900995</td>\n",
              "      <td>0.924422</td>\n",
              "      <td>0.444776</td>\n",
              "      <td>...</td>\n",
              "      <td>0.186150</td>\n",
              "      <td>0.128891</td>\n",
              "      <td>0.047291</td>\n",
              "      <td>0.275862</td>\n",
              "      <td>1.298564</td>\n",
              "      <td>0.023438</td>\n",
              "      <td>8.929688</td>\n",
              "      <td>8.906250</td>\n",
              "      <td>0.165461</td>\n",
              "      <td>male</td>\n",
              "    </tr>\n",
              "  </tbody>\n",
              "</table>\n",
              "<p>10 rows × 21 columns</p>\n",
              "</div>\n",
              "      <button class=\"colab-df-convert\" onclick=\"convertToInteractive('df-7ea6b593-39f2-49a6-bb5d-f4fdec4ab239')\"\n",
              "              title=\"Convert this dataframe to an interactive table.\"\n",
              "              style=\"display:none;\">\n",
              "        \n",
              "  <svg xmlns=\"http://www.w3.org/2000/svg\" height=\"24px\"viewBox=\"0 0 24 24\"\n",
              "       width=\"24px\">\n",
              "    <path d=\"M0 0h24v24H0V0z\" fill=\"none\"/>\n",
              "    <path d=\"M18.56 5.44l.94 2.06.94-2.06 2.06-.94-2.06-.94-.94-2.06-.94 2.06-2.06.94zm-11 1L8.5 8.5l.94-2.06 2.06-.94-2.06-.94L8.5 2.5l-.94 2.06-2.06.94zm10 10l.94 2.06.94-2.06 2.06-.94-2.06-.94-.94-2.06-.94 2.06-2.06.94z\"/><path d=\"M17.41 7.96l-1.37-1.37c-.4-.4-.92-.59-1.43-.59-.52 0-1.04.2-1.43.59L10.3 9.45l-7.72 7.72c-.78.78-.78 2.05 0 2.83L4 21.41c.39.39.9.59 1.41.59.51 0 1.02-.2 1.41-.59l7.78-7.78 2.81-2.81c.8-.78.8-2.07 0-2.86zM5.41 20L4 18.59l7.72-7.72 1.47 1.35L5.41 20z\"/>\n",
              "  </svg>\n",
              "      </button>\n",
              "      \n",
              "  <style>\n",
              "    .colab-df-container {\n",
              "      display:flex;\n",
              "      flex-wrap:wrap;\n",
              "      gap: 12px;\n",
              "    }\n",
              "\n",
              "    .colab-df-convert {\n",
              "      background-color: #E8F0FE;\n",
              "      border: none;\n",
              "      border-radius: 50%;\n",
              "      cursor: pointer;\n",
              "      display: none;\n",
              "      fill: #1967D2;\n",
              "      height: 32px;\n",
              "      padding: 0 0 0 0;\n",
              "      width: 32px;\n",
              "    }\n",
              "\n",
              "    .colab-df-convert:hover {\n",
              "      background-color: #E2EBFA;\n",
              "      box-shadow: 0px 1px 2px rgba(60, 64, 67, 0.3), 0px 1px 3px 1px rgba(60, 64, 67, 0.15);\n",
              "      fill: #174EA6;\n",
              "    }\n",
              "\n",
              "    [theme=dark] .colab-df-convert {\n",
              "      background-color: #3B4455;\n",
              "      fill: #D2E3FC;\n",
              "    }\n",
              "\n",
              "    [theme=dark] .colab-df-convert:hover {\n",
              "      background-color: #434B5C;\n",
              "      box-shadow: 0px 1px 3px 1px rgba(0, 0, 0, 0.15);\n",
              "      filter: drop-shadow(0px 1px 2px rgba(0, 0, 0, 0.3));\n",
              "      fill: #FFFFFF;\n",
              "    }\n",
              "  </style>\n",
              "\n",
              "      <script>\n",
              "        const buttonEl =\n",
              "          document.querySelector('#df-7ea6b593-39f2-49a6-bb5d-f4fdec4ab239 button.colab-df-convert');\n",
              "        buttonEl.style.display =\n",
              "          google.colab.kernel.accessAllowed ? 'block' : 'none';\n",
              "\n",
              "        async function convertToInteractive(key) {\n",
              "          const element = document.querySelector('#df-7ea6b593-39f2-49a6-bb5d-f4fdec4ab239');\n",
              "          const dataTable =\n",
              "            await google.colab.kernel.invokeFunction('convertToInteractive',\n",
              "                                                     [key], {});\n",
              "          if (!dataTable) return;\n",
              "\n",
              "          const docLinkHtml = 'Like what you see? Visit the ' +\n",
              "            '<a target=\"_blank\" href=https://colab.research.google.com/notebooks/data_table.ipynb>data table notebook</a>'\n",
              "            + ' to learn more about interactive tables.';\n",
              "          element.innerHTML = '';\n",
              "          dataTable['output_type'] = 'display_data';\n",
              "          await google.colab.output.renderOutput(dataTable, element);\n",
              "          const docLink = document.createElement('div');\n",
              "          docLink.innerHTML = docLinkHtml;\n",
              "          element.appendChild(docLink);\n",
              "        }\n",
              "      </script>\n",
              "    </div>\n",
              "  </div>\n",
              "  "
            ]
          },
          "metadata": {},
          "execution_count": 20
        }
      ]
    },
    {
      "cell_type": "code",
      "source": [
        "data.shape"
      ],
      "metadata": {
        "colab": {
          "base_uri": "https://localhost:8080/"
        },
        "id": "4gXXgDc2ViqW",
        "outputId": "47123a6e-05a1-41a4-e652-5d815ced877f"
      },
      "execution_count": 21,
      "outputs": [
        {
          "output_type": "execute_result",
          "data": {
            "text/plain": [
              "(3168, 21)"
            ]
          },
          "metadata": {},
          "execution_count": 21
        }
      ]
    },
    {
      "cell_type": "code",
      "source": [
        "data.describe().T # T is for transposing the data"
      ],
      "metadata": {
        "colab": {
          "base_uri": "https://localhost:8080/",
          "height": 677
        },
        "id": "ROU4XWQ5VuGF",
        "outputId": "aa3ed077-b63c-4305-f9a3-2bb9c4b10465"
      },
      "execution_count": 22,
      "outputs": [
        {
          "output_type": "execute_result",
          "data": {
            "text/plain": [
              "           count       mean         std       min       25%       50%  \\\n",
              "meanfreq  3168.0   0.180907    0.029918  0.039363  0.163662  0.184838   \n",
              "sd        3168.0   0.057126    0.016652  0.018363  0.041954  0.059155   \n",
              "median    3168.0   0.185621    0.036360  0.010975  0.169593  0.190032   \n",
              "Q25       3168.0   0.140456    0.048680  0.000229  0.111087  0.140286   \n",
              "Q75       3168.0   0.224765    0.023639  0.042946  0.208747  0.225684   \n",
              "IQR       3168.0   0.084309    0.042783  0.014558  0.042560  0.094280   \n",
              "skew      3168.0   3.140168    4.240529  0.141735  1.649569  2.197101   \n",
              "kurt      3168.0  36.568461  134.928661  2.068455  5.669547  8.318463   \n",
              "sp.ent    3168.0   0.895127    0.044980  0.738651  0.861811  0.901767   \n",
              "sfm       3168.0   0.408216    0.177521  0.036876  0.258041  0.396335   \n",
              "mode      3168.0   0.165282    0.077203  0.000000  0.118016  0.186599   \n",
              "centroid  3168.0   0.180907    0.029918  0.039363  0.163662  0.184838   \n",
              "meanfun   3168.0   0.142807    0.032304  0.055565  0.116998  0.140519   \n",
              "minfun    3168.0   0.036802    0.019220  0.009775  0.018223  0.046110   \n",
              "maxfun    3168.0   0.258842    0.030077  0.103093  0.253968  0.271186   \n",
              "meandom   3168.0   0.829211    0.525205  0.007812  0.419828  0.765795   \n",
              "mindom    3168.0   0.052647    0.063299  0.004883  0.007812  0.023438   \n",
              "maxdom    3168.0   5.047277    3.521157  0.007812  2.070312  4.992188   \n",
              "dfrange   3168.0   4.994630    3.520039  0.000000  2.044922  4.945312   \n",
              "modindx   3168.0   0.173752    0.119454  0.000000  0.099766  0.139357   \n",
              "\n",
              "                75%          max  \n",
              "meanfreq   0.199146     0.251124  \n",
              "sd         0.067020     0.115273  \n",
              "median     0.210618     0.261224  \n",
              "Q25        0.175939     0.247347  \n",
              "Q75        0.243660     0.273469  \n",
              "IQR        0.114175     0.252225  \n",
              "skew       2.931694    34.725453  \n",
              "kurt      13.648905  1309.612887  \n",
              "sp.ent     0.928713     0.981997  \n",
              "sfm        0.533676     0.842936  \n",
              "mode       0.221104     0.280000  \n",
              "centroid   0.199146     0.251124  \n",
              "meanfun    0.169581     0.237636  \n",
              "minfun     0.047904     0.204082  \n",
              "maxfun     0.277457     0.279114  \n",
              "meandom    1.177166     2.957682  \n",
              "mindom     0.070312     0.458984  \n",
              "maxdom     7.007812    21.867188  \n",
              "dfrange    6.992188    21.843750  \n",
              "modindx    0.209183     0.932374  "
            ],
            "text/html": [
              "\n",
              "  <div id=\"df-54578981-ab21-455e-8f56-8bca088b4042\">\n",
              "    <div class=\"colab-df-container\">\n",
              "      <div>\n",
              "<style scoped>\n",
              "    .dataframe tbody tr th:only-of-type {\n",
              "        vertical-align: middle;\n",
              "    }\n",
              "\n",
              "    .dataframe tbody tr th {\n",
              "        vertical-align: top;\n",
              "    }\n",
              "\n",
              "    .dataframe thead th {\n",
              "        text-align: right;\n",
              "    }\n",
              "</style>\n",
              "<table border=\"1\" class=\"dataframe\">\n",
              "  <thead>\n",
              "    <tr style=\"text-align: right;\">\n",
              "      <th></th>\n",
              "      <th>count</th>\n",
              "      <th>mean</th>\n",
              "      <th>std</th>\n",
              "      <th>min</th>\n",
              "      <th>25%</th>\n",
              "      <th>50%</th>\n",
              "      <th>75%</th>\n",
              "      <th>max</th>\n",
              "    </tr>\n",
              "  </thead>\n",
              "  <tbody>\n",
              "    <tr>\n",
              "      <th>meanfreq</th>\n",
              "      <td>3168.0</td>\n",
              "      <td>0.180907</td>\n",
              "      <td>0.029918</td>\n",
              "      <td>0.039363</td>\n",
              "      <td>0.163662</td>\n",
              "      <td>0.184838</td>\n",
              "      <td>0.199146</td>\n",
              "      <td>0.251124</td>\n",
              "    </tr>\n",
              "    <tr>\n",
              "      <th>sd</th>\n",
              "      <td>3168.0</td>\n",
              "      <td>0.057126</td>\n",
              "      <td>0.016652</td>\n",
              "      <td>0.018363</td>\n",
              "      <td>0.041954</td>\n",
              "      <td>0.059155</td>\n",
              "      <td>0.067020</td>\n",
              "      <td>0.115273</td>\n",
              "    </tr>\n",
              "    <tr>\n",
              "      <th>median</th>\n",
              "      <td>3168.0</td>\n",
              "      <td>0.185621</td>\n",
              "      <td>0.036360</td>\n",
              "      <td>0.010975</td>\n",
              "      <td>0.169593</td>\n",
              "      <td>0.190032</td>\n",
              "      <td>0.210618</td>\n",
              "      <td>0.261224</td>\n",
              "    </tr>\n",
              "    <tr>\n",
              "      <th>Q25</th>\n",
              "      <td>3168.0</td>\n",
              "      <td>0.140456</td>\n",
              "      <td>0.048680</td>\n",
              "      <td>0.000229</td>\n",
              "      <td>0.111087</td>\n",
              "      <td>0.140286</td>\n",
              "      <td>0.175939</td>\n",
              "      <td>0.247347</td>\n",
              "    </tr>\n",
              "    <tr>\n",
              "      <th>Q75</th>\n",
              "      <td>3168.0</td>\n",
              "      <td>0.224765</td>\n",
              "      <td>0.023639</td>\n",
              "      <td>0.042946</td>\n",
              "      <td>0.208747</td>\n",
              "      <td>0.225684</td>\n",
              "      <td>0.243660</td>\n",
              "      <td>0.273469</td>\n",
              "    </tr>\n",
              "    <tr>\n",
              "      <th>IQR</th>\n",
              "      <td>3168.0</td>\n",
              "      <td>0.084309</td>\n",
              "      <td>0.042783</td>\n",
              "      <td>0.014558</td>\n",
              "      <td>0.042560</td>\n",
              "      <td>0.094280</td>\n",
              "      <td>0.114175</td>\n",
              "      <td>0.252225</td>\n",
              "    </tr>\n",
              "    <tr>\n",
              "      <th>skew</th>\n",
              "      <td>3168.0</td>\n",
              "      <td>3.140168</td>\n",
              "      <td>4.240529</td>\n",
              "      <td>0.141735</td>\n",
              "      <td>1.649569</td>\n",
              "      <td>2.197101</td>\n",
              "      <td>2.931694</td>\n",
              "      <td>34.725453</td>\n",
              "    </tr>\n",
              "    <tr>\n",
              "      <th>kurt</th>\n",
              "      <td>3168.0</td>\n",
              "      <td>36.568461</td>\n",
              "      <td>134.928661</td>\n",
              "      <td>2.068455</td>\n",
              "      <td>5.669547</td>\n",
              "      <td>8.318463</td>\n",
              "      <td>13.648905</td>\n",
              "      <td>1309.612887</td>\n",
              "    </tr>\n",
              "    <tr>\n",
              "      <th>sp.ent</th>\n",
              "      <td>3168.0</td>\n",
              "      <td>0.895127</td>\n",
              "      <td>0.044980</td>\n",
              "      <td>0.738651</td>\n",
              "      <td>0.861811</td>\n",
              "      <td>0.901767</td>\n",
              "      <td>0.928713</td>\n",
              "      <td>0.981997</td>\n",
              "    </tr>\n",
              "    <tr>\n",
              "      <th>sfm</th>\n",
              "      <td>3168.0</td>\n",
              "      <td>0.408216</td>\n",
              "      <td>0.177521</td>\n",
              "      <td>0.036876</td>\n",
              "      <td>0.258041</td>\n",
              "      <td>0.396335</td>\n",
              "      <td>0.533676</td>\n",
              "      <td>0.842936</td>\n",
              "    </tr>\n",
              "    <tr>\n",
              "      <th>mode</th>\n",
              "      <td>3168.0</td>\n",
              "      <td>0.165282</td>\n",
              "      <td>0.077203</td>\n",
              "      <td>0.000000</td>\n",
              "      <td>0.118016</td>\n",
              "      <td>0.186599</td>\n",
              "      <td>0.221104</td>\n",
              "      <td>0.280000</td>\n",
              "    </tr>\n",
              "    <tr>\n",
              "      <th>centroid</th>\n",
              "      <td>3168.0</td>\n",
              "      <td>0.180907</td>\n",
              "      <td>0.029918</td>\n",
              "      <td>0.039363</td>\n",
              "      <td>0.163662</td>\n",
              "      <td>0.184838</td>\n",
              "      <td>0.199146</td>\n",
              "      <td>0.251124</td>\n",
              "    </tr>\n",
              "    <tr>\n",
              "      <th>meanfun</th>\n",
              "      <td>3168.0</td>\n",
              "      <td>0.142807</td>\n",
              "      <td>0.032304</td>\n",
              "      <td>0.055565</td>\n",
              "      <td>0.116998</td>\n",
              "      <td>0.140519</td>\n",
              "      <td>0.169581</td>\n",
              "      <td>0.237636</td>\n",
              "    </tr>\n",
              "    <tr>\n",
              "      <th>minfun</th>\n",
              "      <td>3168.0</td>\n",
              "      <td>0.036802</td>\n",
              "      <td>0.019220</td>\n",
              "      <td>0.009775</td>\n",
              "      <td>0.018223</td>\n",
              "      <td>0.046110</td>\n",
              "      <td>0.047904</td>\n",
              "      <td>0.204082</td>\n",
              "    </tr>\n",
              "    <tr>\n",
              "      <th>maxfun</th>\n",
              "      <td>3168.0</td>\n",
              "      <td>0.258842</td>\n",
              "      <td>0.030077</td>\n",
              "      <td>0.103093</td>\n",
              "      <td>0.253968</td>\n",
              "      <td>0.271186</td>\n",
              "      <td>0.277457</td>\n",
              "      <td>0.279114</td>\n",
              "    </tr>\n",
              "    <tr>\n",
              "      <th>meandom</th>\n",
              "      <td>3168.0</td>\n",
              "      <td>0.829211</td>\n",
              "      <td>0.525205</td>\n",
              "      <td>0.007812</td>\n",
              "      <td>0.419828</td>\n",
              "      <td>0.765795</td>\n",
              "      <td>1.177166</td>\n",
              "      <td>2.957682</td>\n",
              "    </tr>\n",
              "    <tr>\n",
              "      <th>mindom</th>\n",
              "      <td>3168.0</td>\n",
              "      <td>0.052647</td>\n",
              "      <td>0.063299</td>\n",
              "      <td>0.004883</td>\n",
              "      <td>0.007812</td>\n",
              "      <td>0.023438</td>\n",
              "      <td>0.070312</td>\n",
              "      <td>0.458984</td>\n",
              "    </tr>\n",
              "    <tr>\n",
              "      <th>maxdom</th>\n",
              "      <td>3168.0</td>\n",
              "      <td>5.047277</td>\n",
              "      <td>3.521157</td>\n",
              "      <td>0.007812</td>\n",
              "      <td>2.070312</td>\n",
              "      <td>4.992188</td>\n",
              "      <td>7.007812</td>\n",
              "      <td>21.867188</td>\n",
              "    </tr>\n",
              "    <tr>\n",
              "      <th>dfrange</th>\n",
              "      <td>3168.0</td>\n",
              "      <td>4.994630</td>\n",
              "      <td>3.520039</td>\n",
              "      <td>0.000000</td>\n",
              "      <td>2.044922</td>\n",
              "      <td>4.945312</td>\n",
              "      <td>6.992188</td>\n",
              "      <td>21.843750</td>\n",
              "    </tr>\n",
              "    <tr>\n",
              "      <th>modindx</th>\n",
              "      <td>3168.0</td>\n",
              "      <td>0.173752</td>\n",
              "      <td>0.119454</td>\n",
              "      <td>0.000000</td>\n",
              "      <td>0.099766</td>\n",
              "      <td>0.139357</td>\n",
              "      <td>0.209183</td>\n",
              "      <td>0.932374</td>\n",
              "    </tr>\n",
              "  </tbody>\n",
              "</table>\n",
              "</div>\n",
              "      <button class=\"colab-df-convert\" onclick=\"convertToInteractive('df-54578981-ab21-455e-8f56-8bca088b4042')\"\n",
              "              title=\"Convert this dataframe to an interactive table.\"\n",
              "              style=\"display:none;\">\n",
              "        \n",
              "  <svg xmlns=\"http://www.w3.org/2000/svg\" height=\"24px\"viewBox=\"0 0 24 24\"\n",
              "       width=\"24px\">\n",
              "    <path d=\"M0 0h24v24H0V0z\" fill=\"none\"/>\n",
              "    <path d=\"M18.56 5.44l.94 2.06.94-2.06 2.06-.94-2.06-.94-.94-2.06-.94 2.06-2.06.94zm-11 1L8.5 8.5l.94-2.06 2.06-.94-2.06-.94L8.5 2.5l-.94 2.06-2.06.94zm10 10l.94 2.06.94-2.06 2.06-.94-2.06-.94-.94-2.06-.94 2.06-2.06.94z\"/><path d=\"M17.41 7.96l-1.37-1.37c-.4-.4-.92-.59-1.43-.59-.52 0-1.04.2-1.43.59L10.3 9.45l-7.72 7.72c-.78.78-.78 2.05 0 2.83L4 21.41c.39.39.9.59 1.41.59.51 0 1.02-.2 1.41-.59l7.78-7.78 2.81-2.81c.8-.78.8-2.07 0-2.86zM5.41 20L4 18.59l7.72-7.72 1.47 1.35L5.41 20z\"/>\n",
              "  </svg>\n",
              "      </button>\n",
              "      \n",
              "  <style>\n",
              "    .colab-df-container {\n",
              "      display:flex;\n",
              "      flex-wrap:wrap;\n",
              "      gap: 12px;\n",
              "    }\n",
              "\n",
              "    .colab-df-convert {\n",
              "      background-color: #E8F0FE;\n",
              "      border: none;\n",
              "      border-radius: 50%;\n",
              "      cursor: pointer;\n",
              "      display: none;\n",
              "      fill: #1967D2;\n",
              "      height: 32px;\n",
              "      padding: 0 0 0 0;\n",
              "      width: 32px;\n",
              "    }\n",
              "\n",
              "    .colab-df-convert:hover {\n",
              "      background-color: #E2EBFA;\n",
              "      box-shadow: 0px 1px 2px rgba(60, 64, 67, 0.3), 0px 1px 3px 1px rgba(60, 64, 67, 0.15);\n",
              "      fill: #174EA6;\n",
              "    }\n",
              "\n",
              "    [theme=dark] .colab-df-convert {\n",
              "      background-color: #3B4455;\n",
              "      fill: #D2E3FC;\n",
              "    }\n",
              "\n",
              "    [theme=dark] .colab-df-convert:hover {\n",
              "      background-color: #434B5C;\n",
              "      box-shadow: 0px 1px 3px 1px rgba(0, 0, 0, 0.15);\n",
              "      filter: drop-shadow(0px 1px 2px rgba(0, 0, 0, 0.3));\n",
              "      fill: #FFFFFF;\n",
              "    }\n",
              "  </style>\n",
              "\n",
              "      <script>\n",
              "        const buttonEl =\n",
              "          document.querySelector('#df-54578981-ab21-455e-8f56-8bca088b4042 button.colab-df-convert');\n",
              "        buttonEl.style.display =\n",
              "          google.colab.kernel.accessAllowed ? 'block' : 'none';\n",
              "\n",
              "        async function convertToInteractive(key) {\n",
              "          const element = document.querySelector('#df-54578981-ab21-455e-8f56-8bca088b4042');\n",
              "          const dataTable =\n",
              "            await google.colab.kernel.invokeFunction('convertToInteractive',\n",
              "                                                     [key], {});\n",
              "          if (!dataTable) return;\n",
              "\n",
              "          const docLinkHtml = 'Like what you see? Visit the ' +\n",
              "            '<a target=\"_blank\" href=https://colab.research.google.com/notebooks/data_table.ipynb>data table notebook</a>'\n",
              "            + ' to learn more about interactive tables.';\n",
              "          element.innerHTML = '';\n",
              "          dataTable['output_type'] = 'display_data';\n",
              "          await google.colab.output.renderOutput(dataTable, element);\n",
              "          const docLink = document.createElement('div');\n",
              "          docLink.innerHTML = docLinkHtml;\n",
              "          element.appendChild(docLink);\n",
              "        }\n",
              "      </script>\n",
              "    </div>\n",
              "  </div>\n",
              "  "
            ]
          },
          "metadata": {},
          "execution_count": 22
        }
      ]
    },
    {
      "cell_type": "code",
      "source": [
        "from sklearn.preprocessing import LabelEncoder\n",
        "\n",
        "labelEncoder = LabelEncoder() # instantiate Label Encoder object\n",
        "data['label'] = labelEncoder.fit_transform(data['label'].astype(str))\n",
        "\n",
        "data['label'].sample(10)"
      ],
      "metadata": {
        "colab": {
          "base_uri": "https://localhost:8080/"
        },
        "id": "dmDb5dxSVwct",
        "outputId": "813e35d2-92be-45c2-848e-1d45da514ce0"
      },
      "execution_count": 23,
      "outputs": [
        {
          "output_type": "execute_result",
          "data": {
            "text/plain": [
              "1922    0\n",
              "1555    1\n",
              "1657    0\n",
              "925     1\n",
              "2039    0\n",
              "2969    0\n",
              "1022    1\n",
              "2234    0\n",
              "106     1\n",
              "1525    1\n",
              "Name: label, dtype: int64"
            ]
          },
          "metadata": {},
          "execution_count": 23
        }
      ]
    },
    {
      "cell_type": "code",
      "source": [
        "from sklearn.model_selection import train_test_split\n",
        "\n",
        "features = data.drop('label', axis=1) # save all other columns to features\n",
        "target = data['label']\n",
        "\n",
        "X_train, X_test, y_train, y_test = train_test_split(features, target, test_size = 0.2) # 80% training, 20% test"
      ],
      "metadata": {
        "id": "IYz1NjxzV6q0"
      },
      "execution_count": 24,
      "outputs": []
    },
    {
      "cell_type": "code",
      "source": [
        "X_train.shape, y_train.shape"
      ],
      "metadata": {
        "colab": {
          "base_uri": "https://localhost:8080/"
        },
        "id": "g3lnkdecXJ_N",
        "outputId": "7b965a73-dd27-4ac6-d237-539bbf3cdfd3"
      },
      "execution_count": 25,
      "outputs": [
        {
          "output_type": "execute_result",
          "data": {
            "text/plain": [
              "((2534, 20), (2534,))"
            ]
          },
          "metadata": {},
          "execution_count": 25
        }
      ]
    },
    {
      "cell_type": "code",
      "source": [
        "X_test.shape, y_test.shape "
      ],
      "metadata": {
        "colab": {
          "base_uri": "https://localhost:8080/"
        },
        "id": "FWXnCqwoW7zd",
        "outputId": "8278eec7-5dcb-42ee-b021-6d35d322f02e"
      },
      "execution_count": 26,
      "outputs": [
        {
          "output_type": "execute_result",
          "data": {
            "text/plain": [
              "((634, 20), (634,))"
            ]
          },
          "metadata": {},
          "execution_count": 26
        }
      ]
    },
    {
      "cell_type": "code",
      "source": [
        "from sklearn.linear_model import LogisticRegression\n",
        "from sklearn.metrics import confusion_matrix\n",
        "\n",
        "# liblinear works well for small data sets\n",
        "# penalty is set to l2 (that's L2), this penalizes overly complex models\n",
        "logicstic_model = LogisticRegression(penalty='l2', solver='liblinear') # instantiate Logistic Regression object \n",
        "\n",
        "logicstic_model.fit(X_train, y_train)"
      ],
      "metadata": {
        "colab": {
          "base_uri": "https://localhost:8080/"
        },
        "id": "Sqm5dDm7XH0F",
        "outputId": "d5a0e4a8-7403-49d8-ccfc-7a1bde8c4406"
      },
      "execution_count": 27,
      "outputs": [
        {
          "output_type": "execute_result",
          "data": {
            "text/plain": [
              "LogisticRegression(solver='liblinear')"
            ]
          },
          "metadata": {},
          "execution_count": 27
        }
      ]
    },
    {
      "cell_type": "code",
      "source": [
        "y_pred = logicstic_model.predict(X_test)"
      ],
      "metadata": {
        "id": "Mond_fbDXVIV"
      },
      "execution_count": 28,
      "outputs": []
    },
    {
      "cell_type": "code",
      "source": [
        "confusion_matrix = confusion_matrix(y_test, y_pred)\n",
        "print(confusion_matrix)"
      ],
      "metadata": {
        "colab": {
          "base_uri": "https://localhost:8080/"
        },
        "id": "nyRNdbQrYpWM",
        "outputId": "08c84bf8-4e4a-4e3a-cab7-9953b607311c"
      },
      "execution_count": 29,
      "outputs": [
        {
          "output_type": "stream",
          "name": "stdout",
          "text": [
            "[[264  57]\n",
            " [ 13 300]]\n"
          ]
        }
      ]
    },
    {
      "cell_type": "code",
      "source": [
        "print(\"Training score: \", logicstic_model.score(X_train, y_train))"
      ],
      "metadata": {
        "colab": {
          "base_uri": "https://localhost:8080/"
        },
        "id": "7TpgICXLYzzD",
        "outputId": "9e29c1b6-b13e-48ce-f292-ca6d7d5e4343"
      },
      "execution_count": 30,
      "outputs": [
        {
          "output_type": "stream",
          "name": "stdout",
          "text": [
            "Training score:  0.9127861089187056\n"
          ]
        }
      ]
    },
    {
      "cell_type": "code",
      "source": [
        "from sklearn.metrics import accuracy_score, precision_score, recall_score\n",
        "\n",
        "acc = accuracy_score(y_test, y_pred)\n",
        "pre = precision_score(y_test, y_pred)\n",
        "recall = recall_score(y_test, y_pred)\n",
        "\n",
        "print('Accuracy: ', acc)\n",
        "print('Precision Score: ', pre)\n",
        "print('Recall Score: ', recall)"
      ],
      "metadata": {
        "colab": {
          "base_uri": "https://localhost:8080/"
        },
        "id": "l-lrZoBkZDic",
        "outputId": "90707685-756f-4b9c-d8d4-eaf2b8807e5e"
      },
      "execution_count": 31,
      "outputs": [
        {
          "output_type": "stream",
          "name": "stdout",
          "text": [
            "Accuracy:  0.889589905362776\n",
            "Precision Score:  0.8403361344537815\n",
            "Recall Score:  0.9584664536741214\n"
          ]
        }
      ]
    },
    {
      "cell_type": "code",
      "source": [
        "from yellowbrick.target import FeatureCorrelation\n",
        "\n",
        "feature_names = list(features.columns)"
      ],
      "metadata": {
        "id": "vsrPLbdNZhPz"
      },
      "execution_count": 32,
      "outputs": []
    },
    {
      "cell_type": "code",
      "source": [
        "visualizer = FeatureCorrelation(labels = feature_names)\n",
        "visualizer.fit(features, target)\n",
        "\n",
        "visualizer.poof()"
      ],
      "metadata": {
        "colab": {
          "base_uri": "https://localhost:8080/",
          "height": 393
        },
        "id": "jPaMnQtxZ8Gr",
        "outputId": "63f9f199-ea44-42cf-b528-6281e1e72650"
      },
      "execution_count": 33,
      "outputs": [
        {
          "output_type": "display_data",
          "data": {
            "text/plain": [
              "<Figure size 576x396 with 1 Axes>"
            ],
            "image/png": "[encoded data removed]"
          },
          "metadata": {}
        },
        {
          "output_type": "execute_result",
          "data": {
            "text/plain": [
              "<matplotlib.axes._subplots.AxesSubplot at 0x7f4a22984450>"
            ]
          },
          "metadata": {},
          "execution_count": 33
        }
      ]
    },
    {
      "cell_type": "code",
      "source": [
        "from sklearn.feature_selection import chi2, f_classif, mutual_info_classif\n",
        "from sklearn.feature_selection import SelectKBest"
      ],
      "metadata": {
        "id": "JEfeCg8xpTWk"
      },
      "execution_count": 34,
      "outputs": []
    },
    {
      "cell_type": "code",
      "source": [
        "select_univariate = SelectKBest(chi2, k=4).fit(features, target) # select 4 most relevant features"
      ],
      "metadata": {
        "id": "cz7ukh7oplUk"
      },
      "execution_count": 35,
      "outputs": []
    },
    {
      "cell_type": "code",
      "source": [
        "features_mask = select_univariate.get_support()\n",
        "\n",
        "features_mask"
      ],
      "metadata": {
        "colab": {
          "base_uri": "https://localhost:8080/"
        },
        "id": "X2K9ESDwp1U7",
        "outputId": "77cab0f9-c1f9-4f15-8ea2-6274bb7b3fb2"
      },
      "execution_count": 36,
      "outputs": [
        {
          "output_type": "execute_result",
          "data": {
            "text/plain": [
              "array([False, False, False, False, False, False, False,  True, False,\n",
              "       False, False, False, False, False, False,  True, False,  True,\n",
              "        True, False])"
            ]
          },
          "metadata": {},
          "execution_count": 36
        }
      ]
    },
    {
      "cell_type": "code",
      "source": [
        "selected_columns = features.columns[features_mask]\n",
        "\n",
        "selected_columns"
      ],
      "metadata": {
        "colab": {
          "base_uri": "https://localhost:8080/"
        },
        "id": "x3RnecT4p-77",
        "outputId": "78a32ec3-c09b-4812-b6ca-ff751c733f52"
      },
      "execution_count": 37,
      "outputs": [
        {
          "output_type": "execute_result",
          "data": {
            "text/plain": [
              "Index(['kurt', 'meandom', 'maxdom', 'dfrange'], dtype='object')"
            ]
          },
          "metadata": {},
          "execution_count": 37
        }
      ]
    },
    {
      "cell_type": "code",
      "source": [
        "selected_features = features[selected_columns]\n",
        "selected_features.head()"
      ],
      "metadata": {
        "colab": {
          "base_uri": "https://localhost:8080/",
          "height": 206
        },
        "id": "qTmqm0dnqPla",
        "outputId": "f140ee1c-7ab8-4666-8d17-21369a3b2f1a"
      },
      "execution_count": 38,
      "outputs": [
        {
          "output_type": "execute_result",
          "data": {
            "text/plain": [
              "          kurt   meandom    maxdom   dfrange\n",
              "0   274.402905  0.007812  0.007812  0.000000\n",
              "1   634.613855  0.009014  0.054688  0.046875\n",
              "2  1024.927705  0.007990  0.015625  0.007812\n",
              "3     4.177296  0.201497  0.562500  0.554688\n",
              "4     4.333713  0.712812  5.484375  5.476562"
            ],
            "text/html": [
              "\n",
              "  <div id=\"df-78047b89-f383-41c9-bb67-aa569d93608e\">\n",
              "    <div class=\"colab-df-container\">\n",
              "      <div>\n",
              "<style scoped>\n",
              "    .dataframe tbody tr th:only-of-type {\n",
              "        vertical-align: middle;\n",
              "    }\n",
              "\n",
              "    .dataframe tbody tr th {\n",
              "        vertical-align: top;\n",
              "    }\n",
              "\n",
              "    .dataframe thead th {\n",
              "        text-align: right;\n",
              "    }\n",
              "</style>\n",
              "<table border=\"1\" class=\"dataframe\">\n",
              "  <thead>\n",
              "    <tr style=\"text-align: right;\">\n",
              "      <th></th>\n",
              "      <th>kurt</th>\n",
              "      <th>meandom</th>\n",
              "      <th>maxdom</th>\n",
              "      <th>dfrange</th>\n",
              "    </tr>\n",
              "  </thead>\n",
              "  <tbody>\n",
              "    <tr>\n",
              "      <th>0</th>\n",
              "      <td>274.402905</td>\n",
              "      <td>0.007812</td>\n",
              "      <td>0.007812</td>\n",
              "      <td>0.000000</td>\n",
              "    </tr>\n",
              "    <tr>\n",
              "      <th>1</th>\n",
              "      <td>634.613855</td>\n",
              "      <td>0.009014</td>\n",
              "      <td>0.054688</td>\n",
              "      <td>0.046875</td>\n",
              "    </tr>\n",
              "    <tr>\n",
              "      <th>2</th>\n",
              "      <td>1024.927705</td>\n",
              "      <td>0.007990</td>\n",
              "      <td>0.015625</td>\n",
              "      <td>0.007812</td>\n",
              "    </tr>\n",
              "    <tr>\n",
              "      <th>3</th>\n",
              "      <td>4.177296</td>\n",
              "      <td>0.201497</td>\n",
              "      <td>0.562500</td>\n",
              "      <td>0.554688</td>\n",
              "    </tr>\n",
              "    <tr>\n",
              "      <th>4</th>\n",
              "      <td>4.333713</td>\n",
              "      <td>0.712812</td>\n",
              "      <td>5.484375</td>\n",
              "      <td>5.476562</td>\n",
              "    </tr>\n",
              "  </tbody>\n",
              "</table>\n",
              "</div>\n",
              "      <button class=\"colab-df-convert\" onclick=\"convertToInteractive('df-78047b89-f383-41c9-bb67-aa569d93608e')\"\n",
              "              title=\"Convert this dataframe to an interactive table.\"\n",
              "              style=\"display:none;\">\n",
              "        \n",
              "  <svg xmlns=\"http://www.w3.org/2000/svg\" height=\"24px\"viewBox=\"0 0 24 24\"\n",
              "       width=\"24px\">\n",
              "    <path d=\"M0 0h24v24H0V0z\" fill=\"none\"/>\n",
              "    <path d=\"M18.56 5.44l.94 2.06.94-2.06 2.06-.94-2.06-.94-.94-2.06-.94 2.06-2.06.94zm-11 1L8.5 8.5l.94-2.06 2.06-.94-2.06-.94L8.5 2.5l-.94 2.06-2.06.94zm10 10l.94 2.06.94-2.06 2.06-.94-2.06-.94-.94-2.06-.94 2.06-2.06.94z\"/><path d=\"M17.41 7.96l-1.37-1.37c-.4-.4-.92-.59-1.43-.59-.52 0-1.04.2-1.43.59L10.3 9.45l-7.72 7.72c-.78.78-.78 2.05 0 2.83L4 21.41c.39.39.9.59 1.41.59.51 0 1.02-.2 1.41-.59l7.78-7.78 2.81-2.81c.8-.78.8-2.07 0-2.86zM5.41 20L4 18.59l7.72-7.72 1.47 1.35L5.41 20z\"/>\n",
              "  </svg>\n",
              "      </button>\n",
              "      \n",
              "  <style>\n",
              "    .colab-df-container {\n",
              "      display:flex;\n",
              "      flex-wrap:wrap;\n",
              "      gap: 12px;\n",
              "    }\n",
              "\n",
              "    .colab-df-convert {\n",
              "      background-color: #E8F0FE;\n",
              "      border: none;\n",
              "      border-radius: 50%;\n",
              "      cursor: pointer;\n",
              "      display: none;\n",
              "      fill: #1967D2;\n",
              "      height: 32px;\n",
              "      padding: 0 0 0 0;\n",
              "      width: 32px;\n",
              "    }\n",
              "\n",
              "    .colab-df-convert:hover {\n",
              "      background-color: #E2EBFA;\n",
              "      box-shadow: 0px 1px 2px rgba(60, 64, 67, 0.3), 0px 1px 3px 1px rgba(60, 64, 67, 0.15);\n",
              "      fill: #174EA6;\n",
              "    }\n",
              "\n",
              "    [theme=dark] .colab-df-convert {\n",
              "      background-color: #3B4455;\n",
              "      fill: #D2E3FC;\n",
              "    }\n",
              "\n",
              "    [theme=dark] .colab-df-convert:hover {\n",
              "      background-color: #434B5C;\n",
              "      box-shadow: 0px 1px 3px 1px rgba(0, 0, 0, 0.15);\n",
              "      filter: drop-shadow(0px 1px 2px rgba(0, 0, 0, 0.3));\n",
              "      fill: #FFFFFF;\n",
              "    }\n",
              "  </style>\n",
              "\n",
              "      <script>\n",
              "        const buttonEl =\n",
              "          document.querySelector('#df-78047b89-f383-41c9-bb67-aa569d93608e button.colab-df-convert');\n",
              "        buttonEl.style.display =\n",
              "          google.colab.kernel.accessAllowed ? 'block' : 'none';\n",
              "\n",
              "        async function convertToInteractive(key) {\n",
              "          const element = document.querySelector('#df-78047b89-f383-41c9-bb67-aa569d93608e');\n",
              "          const dataTable =\n",
              "            await google.colab.kernel.invokeFunction('convertToInteractive',\n",
              "                                                     [key], {});\n",
              "          if (!dataTable) return;\n",
              "\n",
              "          const docLinkHtml = 'Like what you see? Visit the ' +\n",
              "            '<a target=\"_blank\" href=https://colab.research.google.com/notebooks/data_table.ipynb>data table notebook</a>'\n",
              "            + ' to learn more about interactive tables.';\n",
              "          element.innerHTML = '';\n",
              "          dataTable['output_type'] = 'display_data';\n",
              "          await google.colab.output.renderOutput(dataTable, element);\n",
              "          const docLink = document.createElement('div');\n",
              "          docLink.innerHTML = docLinkHtml;\n",
              "          element.appendChild(docLink);\n",
              "        }\n",
              "      </script>\n",
              "    </div>\n",
              "  </div>\n",
              "  "
            ]
          },
          "metadata": {},
          "execution_count": 38
        }
      ]
    },
    {
      "cell_type": "code",
      "source": [
        "X_train, X_test, y_train, y_test = train_test_split(selected_features, target, test_size=0.2) # split the data into training and test data  "
      ],
      "metadata": {
        "id": "6v_w68IzqZ1D"
      },
      "execution_count": 39,
      "outputs": []
    },
    {
      "cell_type": "code",
      "source": [
        "from sklearn.linear_model import LogisticRegression\n",
        "\n",
        "logicstic_model.fit(X_train, y_train)"
      ],
      "metadata": {
        "colab": {
          "base_uri": "https://localhost:8080/"
        },
        "id": "6kqGbi4_qpVi",
        "outputId": "3369566a-6edf-4d6b-fad2-680c85bf6c0a"
      },
      "execution_count": 40,
      "outputs": [
        {
          "output_type": "execute_result",
          "data": {
            "text/plain": [
              "LogisticRegression(solver='liblinear')"
            ]
          },
          "metadata": {},
          "execution_count": 40
        }
      ]
    },
    {
      "cell_type": "code",
      "source": [
        "y_pred = logicstic_model.predict(X_test)"
      ],
      "metadata": {
        "id": "5uqZaPeuq3xa"
      },
      "execution_count": 41,
      "outputs": []
    },
    {
      "cell_type": "code",
      "source": [
        "acc = accuracy_score(y_test, y_pred)\n",
        "pre = precision_score(y_test, y_pred)\n",
        "recall = recall_score(y_test, y_pred)\n",
        "\n",
        "print('Accuracy: ', acc)\n",
        "print('Precision Score: ', pre)\n",
        "print('Recall Score: ', recall)"
      ],
      "metadata": {
        "colab": {
          "base_uri": "https://localhost:8080/"
        },
        "id": "Xh41UErRq-hK",
        "outputId": "deaf719a-b450-4b12-cc23-f1add327e4a9"
      },
      "execution_count": 42,
      "outputs": [
        {
          "output_type": "stream",
          "name": "stdout",
          "text": [
            "Accuracy:  0.6072555205047319\n",
            "Precision Score:  0.636085626911315\n",
            "Recall Score:  0.6153846153846154\n"
          ]
        }
      ]
    },
    {
      "cell_type": "markdown",
      "source": [
        "Let's see if we can get a more accurate result using f_classif instead of chi2"
      ],
      "metadata": {
        "id": "fNzwrUKssOha"
      }
    },
    {
      "cell_type": "code",
      "source": [
        "select_univariate = SelectKBest(f_classif, k=4).fit(features, target) # select 4 most relevant features"
      ],
      "metadata": {
        "id": "mu1-IGXkrUcY"
      },
      "execution_count": 43,
      "outputs": []
    },
    {
      "cell_type": "code",
      "source": [
        "features_mask = select_univariate.get_support()\n",
        "\n",
        "features_mask"
      ],
      "metadata": {
        "colab": {
          "base_uri": "https://localhost:8080/"
        },
        "outputId": "b96ea8f1-31d8-42b3-9c2f-2cbac42e2085",
        "id": "DbFnhP27utev"
      },
      "execution_count": 44,
      "outputs": [
        {
          "output_type": "execute_result",
          "data": {
            "text/plain": [
              "array([False, False, False,  True, False,  True, False, False,  True,\n",
              "       False, False, False,  True, False, False, False, False, False,\n",
              "       False, False])"
            ]
          },
          "metadata": {},
          "execution_count": 44
        }
      ]
    },
    {
      "cell_type": "code",
      "source": [
        "selected_columns = features.columns[features_mask]\n",
        "\n",
        "selected_columns"
      ],
      "metadata": {
        "colab": {
          "base_uri": "https://localhost:8080/"
        },
        "outputId": "a4dd8741-328b-435c-b224-9f2f54e777b8",
        "id": "2A-b-_bgu0iJ"
      },
      "execution_count": 45,
      "outputs": [
        {
          "output_type": "execute_result",
          "data": {
            "text/plain": [
              "Index(['Q25', 'IQR', 'sp.ent', 'meanfun'], dtype='object')"
            ]
          },
          "metadata": {},
          "execution_count": 45
        }
      ]
    },
    {
      "cell_type": "code",
      "source": [
        "selected_features = features[selected_columns]\n",
        "selected_features.head()"
      ],
      "metadata": {
        "colab": {
          "base_uri": "https://localhost:8080/",
          "height": 206
        },
        "outputId": "c27b61d5-5c5f-47e4-9b87-d0dbbed245f4",
        "id": "xpWEXMrpu6UF"
      },
      "execution_count": 46,
      "outputs": [
        {
          "output_type": "execute_result",
          "data": {
            "text/plain": [
              "        Q25       IQR    sp.ent   meanfun\n",
              "0  0.015071  0.075122  0.893369  0.084279\n",
              "1  0.019414  0.073252  0.892193  0.107937\n",
              "2  0.008701  0.123207  0.846389  0.098706\n",
              "3  0.096582  0.111374  0.963322  0.088965\n",
              "4  0.078720  0.127325  0.971955  0.106398"
            ],
            "text/html": [
              "\n",
              "  <div id=\"df-569a2fc6-78c0-4c08-97d4-ab013088c346\">\n",
              "    <div class=\"colab-df-container\">\n",
              "      <div>\n",
              "<style scoped>\n",
              "    .dataframe tbody tr th:only-of-type {\n",
              "        vertical-align: middle;\n",
              "    }\n",
              "\n",
              "    .dataframe tbody tr th {\n",
              "        vertical-align: top;\n",
              "    }\n",
              "\n",
              "    .dataframe thead th {\n",
              "        text-align: right;\n",
              "    }\n",
              "</style>\n",
              "<table border=\"1\" class=\"dataframe\">\n",
              "  <thead>\n",
              "    <tr style=\"text-align: right;\">\n",
              "      <th></th>\n",
              "      <th>Q25</th>\n",
              "      <th>IQR</th>\n",
              "      <th>sp.ent</th>\n",
              "      <th>meanfun</th>\n",
              "    </tr>\n",
              "  </thead>\n",
              "  <tbody>\n",
              "    <tr>\n",
              "      <th>0</th>\n",
              "      <td>0.015071</td>\n",
              "      <td>0.075122</td>\n",
              "      <td>0.893369</td>\n",
              "      <td>0.084279</td>\n",
              "    </tr>\n",
              "    <tr>\n",
              "      <th>1</th>\n",
              "      <td>0.019414</td>\n",
              "      <td>0.073252</td>\n",
              "      <td>0.892193</td>\n",
              "      <td>0.107937</td>\n",
              "    </tr>\n",
              "    <tr>\n",
              "      <th>2</th>\n",
              "      <td>0.008701</td>\n",
              "      <td>0.123207</td>\n",
              "      <td>0.846389</td>\n",
              "      <td>0.098706</td>\n",
              "    </tr>\n",
              "    <tr>\n",
              "      <th>3</th>\n",
              "      <td>0.096582</td>\n",
              "      <td>0.111374</td>\n",
              "      <td>0.963322</td>\n",
              "      <td>0.088965</td>\n",
              "    </tr>\n",
              "    <tr>\n",
              "      <th>4</th>\n",
              "      <td>0.078720</td>\n",
              "      <td>0.127325</td>\n",
              "      <td>0.971955</td>\n",
              "      <td>0.106398</td>\n",
              "    </tr>\n",
              "  </tbody>\n",
              "</table>\n",
              "</div>\n",
              "      <button class=\"colab-df-convert\" onclick=\"convertToInteractive('df-569a2fc6-78c0-4c08-97d4-ab013088c346')\"\n",
              "              title=\"Convert this dataframe to an interactive table.\"\n",
              "              style=\"display:none;\">\n",
              "        \n",
              "  <svg xmlns=\"http://www.w3.org/2000/svg\" height=\"24px\"viewBox=\"0 0 24 24\"\n",
              "       width=\"24px\">\n",
              "    <path d=\"M0 0h24v24H0V0z\" fill=\"none\"/>\n",
              "    <path d=\"M18.56 5.44l.94 2.06.94-2.06 2.06-.94-2.06-.94-.94-2.06-.94 2.06-2.06.94zm-11 1L8.5 8.5l.94-2.06 2.06-.94-2.06-.94L8.5 2.5l-.94 2.06-2.06.94zm10 10l.94 2.06.94-2.06 2.06-.94-2.06-.94-.94-2.06-.94 2.06-2.06.94z\"/><path d=\"M17.41 7.96l-1.37-1.37c-.4-.4-.92-.59-1.43-.59-.52 0-1.04.2-1.43.59L10.3 9.45l-7.72 7.72c-.78.78-.78 2.05 0 2.83L4 21.41c.39.39.9.59 1.41.59.51 0 1.02-.2 1.41-.59l7.78-7.78 2.81-2.81c.8-.78.8-2.07 0-2.86zM5.41 20L4 18.59l7.72-7.72 1.47 1.35L5.41 20z\"/>\n",
              "  </svg>\n",
              "      </button>\n",
              "      \n",
              "  <style>\n",
              "    .colab-df-container {\n",
              "      display:flex;\n",
              "      flex-wrap:wrap;\n",
              "      gap: 12px;\n",
              "    }\n",
              "\n",
              "    .colab-df-convert {\n",
              "      background-color: #E8F0FE;\n",
              "      border: none;\n",
              "      border-radius: 50%;\n",
              "      cursor: pointer;\n",
              "      display: none;\n",
              "      fill: #1967D2;\n",
              "      height: 32px;\n",
              "      padding: 0 0 0 0;\n",
              "      width: 32px;\n",
              "    }\n",
              "\n",
              "    .colab-df-convert:hover {\n",
              "      background-color: #E2EBFA;\n",
              "      box-shadow: 0px 1px 2px rgba(60, 64, 67, 0.3), 0px 1px 3px 1px rgba(60, 64, 67, 0.15);\n",
              "      fill: #174EA6;\n",
              "    }\n",
              "\n",
              "    [theme=dark] .colab-df-convert {\n",
              "      background-color: #3B4455;\n",
              "      fill: #D2E3FC;\n",
              "    }\n",
              "\n",
              "    [theme=dark] .colab-df-convert:hover {\n",
              "      background-color: #434B5C;\n",
              "      box-shadow: 0px 1px 3px 1px rgba(0, 0, 0, 0.15);\n",
              "      filter: drop-shadow(0px 1px 2px rgba(0, 0, 0, 0.3));\n",
              "      fill: #FFFFFF;\n",
              "    }\n",
              "  </style>\n",
              "\n",
              "      <script>\n",
              "        const buttonEl =\n",
              "          document.querySelector('#df-569a2fc6-78c0-4c08-97d4-ab013088c346 button.colab-df-convert');\n",
              "        buttonEl.style.display =\n",
              "          google.colab.kernel.accessAllowed ? 'block' : 'none';\n",
              "\n",
              "        async function convertToInteractive(key) {\n",
              "          const element = document.querySelector('#df-569a2fc6-78c0-4c08-97d4-ab013088c346');\n",
              "          const dataTable =\n",
              "            await google.colab.kernel.invokeFunction('convertToInteractive',\n",
              "                                                     [key], {});\n",
              "          if (!dataTable) return;\n",
              "\n",
              "          const docLinkHtml = 'Like what you see? Visit the ' +\n",
              "            '<a target=\"_blank\" href=https://colab.research.google.com/notebooks/data_table.ipynb>data table notebook</a>'\n",
              "            + ' to learn more about interactive tables.';\n",
              "          element.innerHTML = '';\n",
              "          dataTable['output_type'] = 'display_data';\n",
              "          await google.colab.output.renderOutput(dataTable, element);\n",
              "          const docLink = document.createElement('div');\n",
              "          docLink.innerHTML = docLinkHtml;\n",
              "          element.appendChild(docLink);\n",
              "        }\n",
              "      </script>\n",
              "    </div>\n",
              "  </div>\n",
              "  "
            ]
          },
          "metadata": {},
          "execution_count": 46
        }
      ]
    },
    {
      "cell_type": "code",
      "source": [
        "X_train, X_test, y_train, y_test = train_test_split(selected_features, target, test_size=0.2) # split the data into training and test data  "
      ],
      "metadata": {
        "id": "UAtR3a3BvMc0"
      },
      "execution_count": 47,
      "outputs": []
    },
    {
      "cell_type": "code",
      "source": [
        "from sklearn.linear_model import LogisticRegression\n",
        "\n",
        "logicstic_model.fit(X_train, y_train)"
      ],
      "metadata": {
        "colab": {
          "base_uri": "https://localhost:8080/"
        },
        "outputId": "3e7b225c-93bf-446f-f74f-9dc6c8e38c90",
        "id": "WfDpYvf1vR55"
      },
      "execution_count": 48,
      "outputs": [
        {
          "output_type": "execute_result",
          "data": {
            "text/plain": [
              "LogisticRegression(solver='liblinear')"
            ]
          },
          "metadata": {},
          "execution_count": 48
        }
      ]
    },
    {
      "cell_type": "code",
      "source": [
        "y_pred = logicstic_model.predict(X_test)"
      ],
      "metadata": {
        "id": "-qzmHqfqvW45"
      },
      "execution_count": 49,
      "outputs": []
    },
    {
      "cell_type": "code",
      "source": [
        "acc = accuracy_score(y_test, y_pred)\n",
        "pre = precision_score(y_test, y_pred)\n",
        "recall = recall_score(y_test, y_pred)\n",
        "\n",
        "print('Accuracy: ', acc)\n",
        "print('Precision Score: ', pre)\n",
        "print('Recall Score: ', recall) \n",
        "# We went from having a score of around 60% to around 90% or higher, this is much better"
      ],
      "metadata": {
        "colab": {
          "base_uri": "https://localhost:8080/"
        },
        "outputId": "ee627dd8-74a7-496e-9032-b78e033f4fc6",
        "id": "3P4on_l7vcRy"
      },
      "execution_count": 50,
      "outputs": [
        {
          "output_type": "stream",
          "name": "stdout",
          "text": [
            "Accuracy:  0.9085173501577287\n",
            "Precision Score:  0.8666666666666667\n",
            "Recall Score:  0.975975975975976\n"
          ]
        }
      ]
    },
    {
      "cell_type": "markdown",
      "source": [
        "This time let's try it with mutual_info_classif"
      ],
      "metadata": {
        "id": "A9794jwuvzU4"
      }
    },
    {
      "cell_type": "code",
      "source": [
        "select_univariate = SelectKBest(mutual_info_classif, k=4).fit(features, target) # select 4 most relevant features"
      ],
      "metadata": {
        "id": "JpHi5AbXv-M0"
      },
      "execution_count": 51,
      "outputs": []
    },
    {
      "cell_type": "code",
      "source": [
        "features_mask = select_univariate.get_support()\n",
        "\n",
        "features_mask"
      ],
      "metadata": {
        "colab": {
          "base_uri": "https://localhost:8080/"
        },
        "outputId": "745ae1ba-e2d2-4baa-a43b-fa6ccff427ad",
        "id": "p-kkBqLfv-M0"
      },
      "execution_count": 52,
      "outputs": [
        {
          "output_type": "execute_result",
          "data": {
            "text/plain": [
              "array([False,  True, False,  True, False,  True, False, False, False,\n",
              "       False, False, False,  True, False, False, False, False, False,\n",
              "       False, False])"
            ]
          },
          "metadata": {},
          "execution_count": 52
        }
      ]
    },
    {
      "cell_type": "code",
      "source": [
        "selected_columns = features.columns[features_mask]\n",
        "\n",
        "selected_columns"
      ],
      "metadata": {
        "colab": {
          "base_uri": "https://localhost:8080/"
        },
        "outputId": "acb5db72-2490-42ba-c85b-734cd551704e",
        "id": "Wmk8JLkyv-M0"
      },
      "execution_count": 53,
      "outputs": [
        {
          "output_type": "execute_result",
          "data": {
            "text/plain": [
              "Index(['sd', 'Q25', 'IQR', 'meanfun'], dtype='object')"
            ]
          },
          "metadata": {},
          "execution_count": 53
        }
      ]
    },
    {
      "cell_type": "code",
      "source": [
        "selected_features = features[selected_columns]\n",
        "selected_features.head()"
      ],
      "metadata": {
        "colab": {
          "base_uri": "https://localhost:8080/",
          "height": 206
        },
        "outputId": "50d20c80-ae40-49fa-d9b3-882e2faf6e2e",
        "id": "PZQT61e6v-M1"
      },
      "execution_count": 55,
      "outputs": [
        {
          "output_type": "execute_result",
          "data": {
            "text/plain": [
              "         sd       Q25       IQR   meanfun\n",
              "0  0.064241  0.015071  0.075122  0.084279\n",
              "1  0.067310  0.019414  0.073252  0.107937\n",
              "2  0.083829  0.008701  0.123207  0.098706\n",
              "3  0.072111  0.096582  0.111374  0.088965\n",
              "4  0.079146  0.078720  0.127325  0.106398"
            ],
            "text/html": [
              "\n",
              "  <div id=\"df-f7fac301-fc3a-4237-af98-eee95d9d08bf\">\n",
              "    <div class=\"colab-df-container\">\n",
              "      <div>\n",
              "<style scoped>\n",
              "    .dataframe tbody tr th:only-of-type {\n",
              "        vertical-align: middle;\n",
              "    }\n",
              "\n",
              "    .dataframe tbody tr th {\n",
              "        vertical-align: top;\n",
              "    }\n",
              "\n",
              "    .dataframe thead th {\n",
              "        text-align: right;\n",
              "    }\n",
              "</style>\n",
              "<table border=\"1\" class=\"dataframe\">\n",
              "  <thead>\n",
              "    <tr style=\"text-align: right;\">\n",
              "      <th></th>\n",
              "      <th>sd</th>\n",
              "      <th>Q25</th>\n",
              "      <th>IQR</th>\n",
              "      <th>meanfun</th>\n",
              "    </tr>\n",
              "  </thead>\n",
              "  <tbody>\n",
              "    <tr>\n",
              "      <th>0</th>\n",
              "      <td>0.064241</td>\n",
              "      <td>0.015071</td>\n",
              "      <td>0.075122</td>\n",
              "      <td>0.084279</td>\n",
              "    </tr>\n",
              "    <tr>\n",
              "      <th>1</th>\n",
              "      <td>0.067310</td>\n",
              "      <td>0.019414</td>\n",
              "      <td>0.073252</td>\n",
              "      <td>0.107937</td>\n",
              "    </tr>\n",
              "    <tr>\n",
              "      <th>2</th>\n",
              "      <td>0.083829</td>\n",
              "      <td>0.008701</td>\n",
              "      <td>0.123207</td>\n",
              "      <td>0.098706</td>\n",
              "    </tr>\n",
              "    <tr>\n",
              "      <th>3</th>\n",
              "      <td>0.072111</td>\n",
              "      <td>0.096582</td>\n",
              "      <td>0.111374</td>\n",
              "      <td>0.088965</td>\n",
              "    </tr>\n",
              "    <tr>\n",
              "      <th>4</th>\n",
              "      <td>0.079146</td>\n",
              "      <td>0.078720</td>\n",
              "      <td>0.127325</td>\n",
              "      <td>0.106398</td>\n",
              "    </tr>\n",
              "  </tbody>\n",
              "</table>\n",
              "</div>\n",
              "      <button class=\"colab-df-convert\" onclick=\"convertToInteractive('df-f7fac301-fc3a-4237-af98-eee95d9d08bf')\"\n",
              "              title=\"Convert this dataframe to an interactive table.\"\n",
              "              style=\"display:none;\">\n",
              "        \n",
              "  <svg xmlns=\"http://www.w3.org/2000/svg\" height=\"24px\"viewBox=\"0 0 24 24\"\n",
              "       width=\"24px\">\n",
              "    <path d=\"M0 0h24v24H0V0z\" fill=\"none\"/>\n",
              "    <path d=\"M18.56 5.44l.94 2.06.94-2.06 2.06-.94-2.06-.94-.94-2.06-.94 2.06-2.06.94zm-11 1L8.5 8.5l.94-2.06 2.06-.94-2.06-.94L8.5 2.5l-.94 2.06-2.06.94zm10 10l.94 2.06.94-2.06 2.06-.94-2.06-.94-.94-2.06-.94 2.06-2.06.94z\"/><path d=\"M17.41 7.96l-1.37-1.37c-.4-.4-.92-.59-1.43-.59-.52 0-1.04.2-1.43.59L10.3 9.45l-7.72 7.72c-.78.78-.78 2.05 0 2.83L4 21.41c.39.39.9.59 1.41.59.51 0 1.02-.2 1.41-.59l7.78-7.78 2.81-2.81c.8-.78.8-2.07 0-2.86zM5.41 20L4 18.59l7.72-7.72 1.47 1.35L5.41 20z\"/>\n",
              "  </svg>\n",
              "      </button>\n",
              "      \n",
              "  <style>\n",
              "    .colab-df-container {\n",
              "      display:flex;\n",
              "      flex-wrap:wrap;\n",
              "      gap: 12px;\n",
              "    }\n",
              "\n",
              "    .colab-df-convert {\n",
              "      background-color: #E8F0FE;\n",
              "      border: none;\n",
              "      border-radius: 50%;\n",
              "      cursor: pointer;\n",
              "      display: none;\n",
              "      fill: #1967D2;\n",
              "      height: 32px;\n",
              "      padding: 0 0 0 0;\n",
              "      width: 32px;\n",
              "    }\n",
              "\n",
              "    .colab-df-convert:hover {\n",
              "      background-color: #E2EBFA;\n",
              "      box-shadow: 0px 1px 2px rgba(60, 64, 67, 0.3), 0px 1px 3px 1px rgba(60, 64, 67, 0.15);\n",
              "      fill: #174EA6;\n",
              "    }\n",
              "\n",
              "    [theme=dark] .colab-df-convert {\n",
              "      background-color: #3B4455;\n",
              "      fill: #D2E3FC;\n",
              "    }\n",
              "\n",
              "    [theme=dark] .colab-df-convert:hover {\n",
              "      background-color: #434B5C;\n",
              "      box-shadow: 0px 1px 3px 1px rgba(0, 0, 0, 0.15);\n",
              "      filter: drop-shadow(0px 1px 2px rgba(0, 0, 0, 0.3));\n",
              "      fill: #FFFFFF;\n",
              "    }\n",
              "  </style>\n",
              "\n",
              "      <script>\n",
              "        const buttonEl =\n",
              "          document.querySelector('#df-f7fac301-fc3a-4237-af98-eee95d9d08bf button.colab-df-convert');\n",
              "        buttonEl.style.display =\n",
              "          google.colab.kernel.accessAllowed ? 'block' : 'none';\n",
              "\n",
              "        async function convertToInteractive(key) {\n",
              "          const element = document.querySelector('#df-f7fac301-fc3a-4237-af98-eee95d9d08bf');\n",
              "          const dataTable =\n",
              "            await google.colab.kernel.invokeFunction('convertToInteractive',\n",
              "                                                     [key], {});\n",
              "          if (!dataTable) return;\n",
              "\n",
              "          const docLinkHtml = 'Like what you see? Visit the ' +\n",
              "            '<a target=\"_blank\" href=https://colab.research.google.com/notebooks/data_table.ipynb>data table notebook</a>'\n",
              "            + ' to learn more about interactive tables.';\n",
              "          element.innerHTML = '';\n",
              "          dataTable['output_type'] = 'display_data';\n",
              "          await google.colab.output.renderOutput(dataTable, element);\n",
              "          const docLink = document.createElement('div');\n",
              "          docLink.innerHTML = docLinkHtml;\n",
              "          element.appendChild(docLink);\n",
              "        }\n",
              "      </script>\n",
              "    </div>\n",
              "  </div>\n",
              "  "
            ]
          },
          "metadata": {},
          "execution_count": 55
        }
      ]
    },
    {
      "cell_type": "code",
      "source": [
        "X_train, X_test, y_train, y_test = train_test_split(selected_features, target, test_size=0.2) # split the data into training and test data  "
      ],
      "metadata": {
        "id": "wxW9GpaNv-M1"
      },
      "execution_count": 56,
      "outputs": []
    },
    {
      "cell_type": "code",
      "source": [
        "from sklearn.linear_model import LogisticRegression\n",
        "\n",
        "logicstic_model.fit(X_train, y_train)"
      ],
      "metadata": {
        "colab": {
          "base_uri": "https://localhost:8080/"
        },
        "outputId": "e5b11e33-743d-4639-bbbf-f4a1bf37ed76",
        "id": "JPLCXjLDv-M1"
      },
      "execution_count": 57,
      "outputs": [
        {
          "output_type": "execute_result",
          "data": {
            "text/plain": [
              "LogisticRegression(solver='liblinear')"
            ]
          },
          "metadata": {},
          "execution_count": 57
        }
      ]
    },
    {
      "cell_type": "code",
      "source": [
        "y_pred = logicstic_model.predict(X_test)"
      ],
      "metadata": {
        "id": "Lo1V-0kkv-M1"
      },
      "execution_count": 58,
      "outputs": []
    },
    {
      "cell_type": "code",
      "source": [
        "acc = accuracy_score(y_test, y_pred)\n",
        "pre = precision_score(y_test, y_pred)\n",
        "recall = recall_score(y_test, y_pred)\n",
        "\n",
        "print('Accuracy: ', acc)\n",
        "print('Precision Score: ', pre)\n",
        "print('Recall Score: ', recall) \n",
        "# We went from having a score of around 60% to around 90% or higher, this is much better"
      ],
      "metadata": {
        "colab": {
          "base_uri": "https://localhost:8080/"
        },
        "outputId": "bacdf16c-3ce9-4bbd-f2a5-3c1ce3e1757b",
        "id": "kZmUzmLyv-M1"
      },
      "execution_count": 59,
      "outputs": [
        {
          "output_type": "stream",
          "name": "stdout",
          "text": [
            "Accuracy:  0.9100946372239748\n",
            "Precision Score:  0.857566765578635\n",
            "Recall Score:  0.9697986577181208\n"
          ]
        }
      ]
    }
  ]
}