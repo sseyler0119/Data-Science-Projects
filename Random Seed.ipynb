{
 "cells": [
  {
   "cell_type": "code",
   "execution_count": 1,
   "id": "8934a208",
   "metadata": {},
   "outputs": [],
   "source": [
    "import random"
   ]
  },
  {
   "cell_type": "code",
   "execution_count": 2,
   "id": "efc0d1b1",
   "metadata": {},
   "outputs": [],
   "source": [
    "# pick any seed number\n",
    "random.seed(10)"
   ]
  },
  {
   "cell_type": "code",
   "execution_count": 3,
   "id": "56d52c93",
   "metadata": {},
   "outputs": [
    {
     "name": "stdout",
     "output_type": "stream",
     "text": [
      "586\n"
     ]
    }
   ],
   "source": [
    "# print a random number between 1 and 750\n",
    "print(random.randint(1,750))"
   ]
  },
  {
   "cell_type": "code",
   "execution_count": 4,
   "id": "102cf477",
   "metadata": {},
   "outputs": [
    {
     "name": "stdout",
     "output_type": "stream",
     "text": [
      "34\n"
     ]
    }
   ],
   "source": [
    "#print another random number\n",
    "print(random.randint(1,750))"
   ]
  },
  {
   "cell_type": "code",
   "execution_count": 5,
   "id": "5e73bad2",
   "metadata": {},
   "outputs": [
    {
     "name": "stdout",
     "output_type": "stream",
     "text": [
      "586\n"
     ]
    }
   ],
   "source": [
    "# to print the same number again, use the same seed number from earlier\n",
    "random.seed(10)\n",
    "print(random.randint(1,750))"
   ]
  },
  {
   "cell_type": "code",
   "execution_count": 7,
   "id": "f249cc53",
   "metadata": {},
   "outputs": [
    {
     "name": "stdout",
     "output_type": "stream",
     "text": [
      "160\n",
      "122\n",
      "160\n",
      "122\n",
      "160\n",
      "122\n",
      "160\n",
      "122\n",
      "160\n",
      "122\n",
      "160\n",
      "122\n"
     ]
    }
   ],
   "source": [
    "for i in range(6):\n",
    "    random.seed(5)\n",
    "    print(random.randint(1,200))\n",
    "    random.seed(3)\n",
    "    print(random.randint(1,300))"
   ]
  },
  {
   "cell_type": "code",
   "execution_count": null,
   "id": "d1c24b55",
   "metadata": {},
   "outputs": [],
   "source": []
  }
 ],
 "metadata": {
  "kernelspec": {
   "display_name": "Python 3 (ipykernel)",
   "language": "python",
   "name": "python3"
  },
  "language_info": {
   "codemirror_mode": {
    "name": "ipython",
    "version": 3
   },
   "file_extension": ".py",
   "mimetype": "text/x-python",
   "name": "python",
   "nbconvert_exporter": "python",
   "pygments_lexer": "ipython3",
   "version": "3.9.12"
  }
 },
 "nbformat": 4,
 "nbformat_minor": 5
}
